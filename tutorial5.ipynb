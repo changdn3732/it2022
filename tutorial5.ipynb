{
  "nbformat": 4,
  "nbformat_minor": 0,
  "metadata": {
    "colab": {
      "provenance": [],
      "collapsed_sections": [],
      "authorship_tag": "ABX9TyNez8PsMV0edjp9sVGtZkYP",
      "include_colab_link": true
    },
    "kernelspec": {
      "name": "python3",
      "display_name": "Python 3"
    },
    "language_info": {
      "name": "python"
    }
  },
  "cells": [
    {
      "cell_type": "markdown",
      "metadata": {
        "id": "view-in-github",
        "colab_type": "text"
      },
      "source": [
        "<a href=\"https://colab.research.google.com/github/changdn3732/it2022/blob/main/tutorial5.ipynb\" target=\"_parent\"><img src=\"https://colab.research.google.com/assets/colab-badge.svg\" alt=\"Open In Colab\"/></a>"
      ]
    },
    {
      "cell_type": "code",
      "execution_count": 3,
      "metadata": {
        "colab": {
          "base_uri": "https://localhost:8080/"
        },
        "id": "3RxFK5fbNjv2",
        "outputId": "4c90ec54-36fd-48c4-aab1-6238e5ca8e5e"
      },
      "outputs": [
        {
          "output_type": "stream",
          "name": "stdout",
          "text": [
            "X equals 3.\n",
            "This is outside the ‘if’.\n"
          ]
        }
      ],
      "source": [
        "x=3\n",
        "\n",
        "if x == 3:\n",
        "  print (\"X equals 3.\")\n",
        "elif x == 2:\n",
        "  print (\"X equals 2.\")\n",
        "else:\n",
        "  print (\"X equals something else.\")\n",
        "print (\"This is outside the ‘if’.\")"
      ]
    },
    {
      "cell_type": "code",
      "source": [
        "x = 3\n",
        "while x < 5:\n",
        "\n",
        "  print (x, \"still in the loop\")\n",
        "  x = x + 1\n",
        "\n",
        "x = 6\n",
        "while x < 5:\n",
        "\n",
        "  print (x, \"still in the loop\")"
      ],
      "metadata": {
        "colab": {
          "base_uri": "https://localhost:8080/"
        },
        "id": "_hXb0sXXNlt6",
        "outputId": "c885559e-0d5a-40ad-b1ba-3fac975b73df"
      },
      "execution_count": 4,
      "outputs": [
        {
          "output_type": "stream",
          "name": "stdout",
          "text": [
            "3 still in the loop\n",
            "4 still in the loop\n"
          ]
        }
      ]
    }
  ]
}
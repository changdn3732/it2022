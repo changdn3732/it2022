{
 "cells": [
  {
   "cell_type": "markdown",
   "metadata": {},
   "source": [
    "###    Homework1\n"
   ]
  },
  {
   "cell_type": "code",
   "execution_count": 2,
   "metadata": {},
   "outputs": [],
   "source": [
    "import cv2\n",
    "import numpy as np\n",
    "from matplotlib import pyplot as plt"
   ]
  },
  {
   "cell_type": "code",
   "execution_count": 21,
   "metadata": {},
   "outputs": [
    {
     "ename": "SyntaxError",
     "evalue": "invalid syntax (1012541021.py, line 15)",
     "output_type": "error",
     "traceback": [
      "\u001b[1;36m  Input \u001b[1;32mIn [21]\u001b[1;36m\u001b[0m\n\u001b[1;33m    cv2.rectangle(img,(ix,iy),(x,y),(img.itemset(x:ix,y:iy2),255),-1)\u001b[0m\n\u001b[1;37m                                                  ^\u001b[0m\n\u001b[1;31mSyntaxError\u001b[0m\u001b[1;31m:\u001b[0m invalid syntax\n"
     ]
    }
   ],
   "source": [
    "drawing = False # true if mouse is pressed\n",
    "mode = True # if True, draw rectangle. Press 'm' to toggle to curve\n",
    "ix,iy = -1,-1\n",
    "font = cv2.FONT_HERSHEY_SIMPLEX\n",
    "# mouse callback function\n",
    "def draw_circle(event,x,y,flags,param):\n",
    "    global ix,iy,drawing,mode\n",
    "    \n",
    "    if event == cv2.EVENT_LBUTTONDOWN:\n",
    "        drawing = True\n",
    "        ix,iy = x,y\n",
    "    elif event == cv2.EVENT_MOUSEMOVE:\n",
    "        if drawing == True:\n",
    "            if mode == True:\n",
    "                cv2.rectangle(img,(ix,iy),(x,y),(img.itemset(2)),-1)\n",
    "            else:\n",
    "                cv2.circle(img,(x,y),5,(img.itemset(ix,iy,2),255),-1)\n",
    "    elif event == cv2.EVENT_LBUTTONUP:\n",
    "        drawing = False\n",
    "        if mode == True:\n",
    "            cv2.rectangle(img,(ix,iy),(x,y),(0,255,0),-1)\n",
    "        else:\n",
    "            cv2.circle(img,(x,y),5,(0,0,255),-1)\n"
   ]
  },
  {
   "cell_type": "code",
   "execution_count": 20,
   "metadata": {},
   "outputs": [
    {
     "ename": "ValueError",
     "evalue": "can only convert an array of size 1 to a Python scalar",
     "output_type": "error",
     "traceback": [
      "\u001b[1;31m---------------------------------------------------------------------------\u001b[0m",
      "\u001b[1;31mValueError\u001b[0m                                Traceback (most recent call last)",
      "\u001b[1;32mc:\\Users\\U\\20181588\\Homework1.ipynb 셀 4\u001b[0m in \u001b[0;36mdraw_circle\u001b[1;34m(event, x, y, flags, param)\u001b[0m\n\u001b[0;32m     <a href='vscode-notebook-cell:/c%3A/Users/U/20181588/Homework1.ipynb#W3sZmlsZQ%3D%3D?line=12'>13</a>\u001b[0m \u001b[39mif\u001b[39;00m drawing \u001b[39m==\u001b[39m \u001b[39mTrue\u001b[39;00m:\n\u001b[0;32m     <a href='vscode-notebook-cell:/c%3A/Users/U/20181588/Homework1.ipynb#W3sZmlsZQ%3D%3D?line=13'>14</a>\u001b[0m     \u001b[39mif\u001b[39;00m mode \u001b[39m==\u001b[39m \u001b[39mTrue\u001b[39;00m:\n\u001b[1;32m---> <a href='vscode-notebook-cell:/c%3A/Users/U/20181588/Homework1.ipynb#W3sZmlsZQ%3D%3D?line=14'>15</a>\u001b[0m         cv2\u001b[39m.\u001b[39mrectangle(img,(ix,iy),(x,y),(img\u001b[39m.\u001b[39;49mitemset(\u001b[39m2\u001b[39;49m),\u001b[39m255\u001b[39m),\u001b[39m-\u001b[39m\u001b[39m1\u001b[39m)\n\u001b[0;32m     <a href='vscode-notebook-cell:/c%3A/Users/U/20181588/Homework1.ipynb#W3sZmlsZQ%3D%3D?line=15'>16</a>\u001b[0m     \u001b[39melse\u001b[39;00m:\n\u001b[0;32m     <a href='vscode-notebook-cell:/c%3A/Users/U/20181588/Homework1.ipynb#W3sZmlsZQ%3D%3D?line=16'>17</a>\u001b[0m         cv2\u001b[39m.\u001b[39mcircle(img,(x,y),\u001b[39m5\u001b[39m,(img\u001b[39m.\u001b[39mitemset(ix,iy,\u001b[39m2\u001b[39m),\u001b[39m255\u001b[39m),\u001b[39m-\u001b[39m\u001b[39m1\u001b[39m)\n",
      "\u001b[1;31mValueError\u001b[0m: can only convert an array of size 1 to a Python scalar"
     ]
    },
    {
     "ename": "ValueError",
     "evalue": "can only convert an array of size 1 to a Python scalar",
     "output_type": "error",
     "traceback": [
      "\u001b[1;31m---------------------------------------------------------------------------\u001b[0m",
      "\u001b[1;31mValueError\u001b[0m                                Traceback (most recent call last)",
      "\u001b[1;32mc:\\Users\\U\\20181588\\Homework1.ipynb 셀 4\u001b[0m in \u001b[0;36mdraw_circle\u001b[1;34m(event, x, y, flags, param)\u001b[0m\n\u001b[0;32m     <a href='vscode-notebook-cell:/c%3A/Users/U/20181588/Homework1.ipynb#W3sZmlsZQ%3D%3D?line=12'>13</a>\u001b[0m \u001b[39mif\u001b[39;00m drawing \u001b[39m==\u001b[39m \u001b[39mTrue\u001b[39;00m:\n\u001b[0;32m     <a href='vscode-notebook-cell:/c%3A/Users/U/20181588/Homework1.ipynb#W3sZmlsZQ%3D%3D?line=13'>14</a>\u001b[0m     \u001b[39mif\u001b[39;00m mode \u001b[39m==\u001b[39m \u001b[39mTrue\u001b[39;00m:\n\u001b[1;32m---> <a href='vscode-notebook-cell:/c%3A/Users/U/20181588/Homework1.ipynb#W3sZmlsZQ%3D%3D?line=14'>15</a>\u001b[0m         cv2\u001b[39m.\u001b[39mrectangle(img,(ix,iy),(x,y),(img\u001b[39m.\u001b[39;49mitemset(\u001b[39m2\u001b[39;49m),\u001b[39m255\u001b[39m),\u001b[39m-\u001b[39m\u001b[39m1\u001b[39m)\n\u001b[0;32m     <a href='vscode-notebook-cell:/c%3A/Users/U/20181588/Homework1.ipynb#W3sZmlsZQ%3D%3D?line=15'>16</a>\u001b[0m     \u001b[39melse\u001b[39;00m:\n\u001b[0;32m     <a href='vscode-notebook-cell:/c%3A/Users/U/20181588/Homework1.ipynb#W3sZmlsZQ%3D%3D?line=16'>17</a>\u001b[0m         cv2\u001b[39m.\u001b[39mcircle(img,(x,y),\u001b[39m5\u001b[39m,(img\u001b[39m.\u001b[39mitemset(ix,iy,\u001b[39m2\u001b[39m),\u001b[39m255\u001b[39m),\u001b[39m-\u001b[39m\u001b[39m1\u001b[39m)\n",
      "\u001b[1;31mValueError\u001b[0m: can only convert an array of size 1 to a Python scalar"
     ]
    },
    {
     "ename": "ValueError",
     "evalue": "can only convert an array of size 1 to a Python scalar",
     "output_type": "error",
     "traceback": [
      "\u001b[1;31m---------------------------------------------------------------------------\u001b[0m",
      "\u001b[1;31mValueError\u001b[0m                                Traceback (most recent call last)",
      "\u001b[1;32mc:\\Users\\U\\20181588\\Homework1.ipynb 셀 4\u001b[0m in \u001b[0;36mdraw_circle\u001b[1;34m(event, x, y, flags, param)\u001b[0m\n\u001b[0;32m     <a href='vscode-notebook-cell:/c%3A/Users/U/20181588/Homework1.ipynb#W3sZmlsZQ%3D%3D?line=12'>13</a>\u001b[0m \u001b[39mif\u001b[39;00m drawing \u001b[39m==\u001b[39m \u001b[39mTrue\u001b[39;00m:\n\u001b[0;32m     <a href='vscode-notebook-cell:/c%3A/Users/U/20181588/Homework1.ipynb#W3sZmlsZQ%3D%3D?line=13'>14</a>\u001b[0m     \u001b[39mif\u001b[39;00m mode \u001b[39m==\u001b[39m \u001b[39mTrue\u001b[39;00m:\n\u001b[1;32m---> <a href='vscode-notebook-cell:/c%3A/Users/U/20181588/Homework1.ipynb#W3sZmlsZQ%3D%3D?line=14'>15</a>\u001b[0m         cv2\u001b[39m.\u001b[39mrectangle(img,(ix,iy),(x,y),(img\u001b[39m.\u001b[39;49mitemset(\u001b[39m2\u001b[39;49m),\u001b[39m255\u001b[39m),\u001b[39m-\u001b[39m\u001b[39m1\u001b[39m)\n\u001b[0;32m     <a href='vscode-notebook-cell:/c%3A/Users/U/20181588/Homework1.ipynb#W3sZmlsZQ%3D%3D?line=15'>16</a>\u001b[0m     \u001b[39melse\u001b[39;00m:\n\u001b[0;32m     <a href='vscode-notebook-cell:/c%3A/Users/U/20181588/Homework1.ipynb#W3sZmlsZQ%3D%3D?line=16'>17</a>\u001b[0m         cv2\u001b[39m.\u001b[39mcircle(img,(x,y),\u001b[39m5\u001b[39m,(img\u001b[39m.\u001b[39mitemset(ix,iy,\u001b[39m2\u001b[39m),\u001b[39m255\u001b[39m),\u001b[39m-\u001b[39m\u001b[39m1\u001b[39m)\n",
      "\u001b[1;31mValueError\u001b[0m: can only convert an array of size 1 to a Python scalar"
     ]
    },
    {
     "ename": "ValueError",
     "evalue": "can only convert an array of size 1 to a Python scalar",
     "output_type": "error",
     "traceback": [
      "\u001b[1;31m---------------------------------------------------------------------------\u001b[0m",
      "\u001b[1;31mValueError\u001b[0m                                Traceback (most recent call last)",
      "\u001b[1;32mc:\\Users\\U\\20181588\\Homework1.ipynb 셀 4\u001b[0m in \u001b[0;36mdraw_circle\u001b[1;34m(event, x, y, flags, param)\u001b[0m\n\u001b[0;32m     <a href='vscode-notebook-cell:/c%3A/Users/U/20181588/Homework1.ipynb#W3sZmlsZQ%3D%3D?line=12'>13</a>\u001b[0m \u001b[39mif\u001b[39;00m drawing \u001b[39m==\u001b[39m \u001b[39mTrue\u001b[39;00m:\n\u001b[0;32m     <a href='vscode-notebook-cell:/c%3A/Users/U/20181588/Homework1.ipynb#W3sZmlsZQ%3D%3D?line=13'>14</a>\u001b[0m     \u001b[39mif\u001b[39;00m mode \u001b[39m==\u001b[39m \u001b[39mTrue\u001b[39;00m:\n\u001b[1;32m---> <a href='vscode-notebook-cell:/c%3A/Users/U/20181588/Homework1.ipynb#W3sZmlsZQ%3D%3D?line=14'>15</a>\u001b[0m         cv2\u001b[39m.\u001b[39mrectangle(img,(ix,iy),(x,y),(img\u001b[39m.\u001b[39;49mitemset(\u001b[39m2\u001b[39;49m),\u001b[39m255\u001b[39m),\u001b[39m-\u001b[39m\u001b[39m1\u001b[39m)\n\u001b[0;32m     <a href='vscode-notebook-cell:/c%3A/Users/U/20181588/Homework1.ipynb#W3sZmlsZQ%3D%3D?line=15'>16</a>\u001b[0m     \u001b[39melse\u001b[39;00m:\n\u001b[0;32m     <a href='vscode-notebook-cell:/c%3A/Users/U/20181588/Homework1.ipynb#W3sZmlsZQ%3D%3D?line=16'>17</a>\u001b[0m         cv2\u001b[39m.\u001b[39mcircle(img,(x,y),\u001b[39m5\u001b[39m,(img\u001b[39m.\u001b[39mitemset(ix,iy,\u001b[39m2\u001b[39m),\u001b[39m255\u001b[39m),\u001b[39m-\u001b[39m\u001b[39m1\u001b[39m)\n",
      "\u001b[1;31mValueError\u001b[0m: can only convert an array of size 1 to a Python scalar"
     ]
    },
    {
     "ename": "ValueError",
     "evalue": "can only convert an array of size 1 to a Python scalar",
     "output_type": "error",
     "traceback": [
      "\u001b[1;31m---------------------------------------------------------------------------\u001b[0m",
      "\u001b[1;31mValueError\u001b[0m                                Traceback (most recent call last)",
      "\u001b[1;32mc:\\Users\\U\\20181588\\Homework1.ipynb 셀 4\u001b[0m in \u001b[0;36mdraw_circle\u001b[1;34m(event, x, y, flags, param)\u001b[0m\n\u001b[0;32m     <a href='vscode-notebook-cell:/c%3A/Users/U/20181588/Homework1.ipynb#W3sZmlsZQ%3D%3D?line=12'>13</a>\u001b[0m \u001b[39mif\u001b[39;00m drawing \u001b[39m==\u001b[39m \u001b[39mTrue\u001b[39;00m:\n\u001b[0;32m     <a href='vscode-notebook-cell:/c%3A/Users/U/20181588/Homework1.ipynb#W3sZmlsZQ%3D%3D?line=13'>14</a>\u001b[0m     \u001b[39mif\u001b[39;00m mode \u001b[39m==\u001b[39m \u001b[39mTrue\u001b[39;00m:\n\u001b[1;32m---> <a href='vscode-notebook-cell:/c%3A/Users/U/20181588/Homework1.ipynb#W3sZmlsZQ%3D%3D?line=14'>15</a>\u001b[0m         cv2\u001b[39m.\u001b[39mrectangle(img,(ix,iy),(x,y),(img\u001b[39m.\u001b[39;49mitemset(\u001b[39m2\u001b[39;49m),\u001b[39m255\u001b[39m),\u001b[39m-\u001b[39m\u001b[39m1\u001b[39m)\n\u001b[0;32m     <a href='vscode-notebook-cell:/c%3A/Users/U/20181588/Homework1.ipynb#W3sZmlsZQ%3D%3D?line=15'>16</a>\u001b[0m     \u001b[39melse\u001b[39;00m:\n\u001b[0;32m     <a href='vscode-notebook-cell:/c%3A/Users/U/20181588/Homework1.ipynb#W3sZmlsZQ%3D%3D?line=16'>17</a>\u001b[0m         cv2\u001b[39m.\u001b[39mcircle(img,(x,y),\u001b[39m5\u001b[39m,(img\u001b[39m.\u001b[39mitemset(ix,iy,\u001b[39m2\u001b[39m),\u001b[39m255\u001b[39m),\u001b[39m-\u001b[39m\u001b[39m1\u001b[39m)\n",
      "\u001b[1;31mValueError\u001b[0m: can only convert an array of size 1 to a Python scalar"
     ]
    },
    {
     "ename": "ValueError",
     "evalue": "can only convert an array of size 1 to a Python scalar",
     "output_type": "error",
     "traceback": [
      "\u001b[1;31m---------------------------------------------------------------------------\u001b[0m",
      "\u001b[1;31mValueError\u001b[0m                                Traceback (most recent call last)",
      "\u001b[1;32mc:\\Users\\U\\20181588\\Homework1.ipynb 셀 4\u001b[0m in \u001b[0;36mdraw_circle\u001b[1;34m(event, x, y, flags, param)\u001b[0m\n\u001b[0;32m     <a href='vscode-notebook-cell:/c%3A/Users/U/20181588/Homework1.ipynb#W3sZmlsZQ%3D%3D?line=12'>13</a>\u001b[0m \u001b[39mif\u001b[39;00m drawing \u001b[39m==\u001b[39m \u001b[39mTrue\u001b[39;00m:\n\u001b[0;32m     <a href='vscode-notebook-cell:/c%3A/Users/U/20181588/Homework1.ipynb#W3sZmlsZQ%3D%3D?line=13'>14</a>\u001b[0m     \u001b[39mif\u001b[39;00m mode \u001b[39m==\u001b[39m \u001b[39mTrue\u001b[39;00m:\n\u001b[1;32m---> <a href='vscode-notebook-cell:/c%3A/Users/U/20181588/Homework1.ipynb#W3sZmlsZQ%3D%3D?line=14'>15</a>\u001b[0m         cv2\u001b[39m.\u001b[39mrectangle(img,(ix,iy),(x,y),(img\u001b[39m.\u001b[39;49mitemset(\u001b[39m2\u001b[39;49m),\u001b[39m255\u001b[39m),\u001b[39m-\u001b[39m\u001b[39m1\u001b[39m)\n\u001b[0;32m     <a href='vscode-notebook-cell:/c%3A/Users/U/20181588/Homework1.ipynb#W3sZmlsZQ%3D%3D?line=15'>16</a>\u001b[0m     \u001b[39melse\u001b[39;00m:\n\u001b[0;32m     <a href='vscode-notebook-cell:/c%3A/Users/U/20181588/Homework1.ipynb#W3sZmlsZQ%3D%3D?line=16'>17</a>\u001b[0m         cv2\u001b[39m.\u001b[39mcircle(img,(x,y),\u001b[39m5\u001b[39m,(img\u001b[39m.\u001b[39mitemset(ix,iy,\u001b[39m2\u001b[39m),\u001b[39m255\u001b[39m),\u001b[39m-\u001b[39m\u001b[39m1\u001b[39m)\n",
      "\u001b[1;31mValueError\u001b[0m: can only convert an array of size 1 to a Python scalar"
     ]
    },
    {
     "ename": "ValueError",
     "evalue": "can only convert an array of size 1 to a Python scalar",
     "output_type": "error",
     "traceback": [
      "\u001b[1;31m---------------------------------------------------------------------------\u001b[0m",
      "\u001b[1;31mValueError\u001b[0m                                Traceback (most recent call last)",
      "\u001b[1;32mc:\\Users\\U\\20181588\\Homework1.ipynb 셀 4\u001b[0m in \u001b[0;36mdraw_circle\u001b[1;34m(event, x, y, flags, param)\u001b[0m\n\u001b[0;32m     <a href='vscode-notebook-cell:/c%3A/Users/U/20181588/Homework1.ipynb#W3sZmlsZQ%3D%3D?line=12'>13</a>\u001b[0m \u001b[39mif\u001b[39;00m drawing \u001b[39m==\u001b[39m \u001b[39mTrue\u001b[39;00m:\n\u001b[0;32m     <a href='vscode-notebook-cell:/c%3A/Users/U/20181588/Homework1.ipynb#W3sZmlsZQ%3D%3D?line=13'>14</a>\u001b[0m     \u001b[39mif\u001b[39;00m mode \u001b[39m==\u001b[39m \u001b[39mTrue\u001b[39;00m:\n\u001b[1;32m---> <a href='vscode-notebook-cell:/c%3A/Users/U/20181588/Homework1.ipynb#W3sZmlsZQ%3D%3D?line=14'>15</a>\u001b[0m         cv2\u001b[39m.\u001b[39mrectangle(img,(ix,iy),(x,y),(img\u001b[39m.\u001b[39;49mitemset(\u001b[39m2\u001b[39;49m),\u001b[39m255\u001b[39m),\u001b[39m-\u001b[39m\u001b[39m1\u001b[39m)\n\u001b[0;32m     <a href='vscode-notebook-cell:/c%3A/Users/U/20181588/Homework1.ipynb#W3sZmlsZQ%3D%3D?line=15'>16</a>\u001b[0m     \u001b[39melse\u001b[39;00m:\n\u001b[0;32m     <a href='vscode-notebook-cell:/c%3A/Users/U/20181588/Homework1.ipynb#W3sZmlsZQ%3D%3D?line=16'>17</a>\u001b[0m         cv2\u001b[39m.\u001b[39mcircle(img,(x,y),\u001b[39m5\u001b[39m,(img\u001b[39m.\u001b[39mitemset(ix,iy,\u001b[39m2\u001b[39m),\u001b[39m255\u001b[39m),\u001b[39m-\u001b[39m\u001b[39m1\u001b[39m)\n",
      "\u001b[1;31mValueError\u001b[0m: can only convert an array of size 1 to a Python scalar"
     ]
    },
    {
     "ename": "ValueError",
     "evalue": "can only convert an array of size 1 to a Python scalar",
     "output_type": "error",
     "traceback": [
      "\u001b[1;31m---------------------------------------------------------------------------\u001b[0m",
      "\u001b[1;31mValueError\u001b[0m                                Traceback (most recent call last)",
      "\u001b[1;32mc:\\Users\\U\\20181588\\Homework1.ipynb 셀 4\u001b[0m in \u001b[0;36mdraw_circle\u001b[1;34m(event, x, y, flags, param)\u001b[0m\n\u001b[0;32m     <a href='vscode-notebook-cell:/c%3A/Users/U/20181588/Homework1.ipynb#W3sZmlsZQ%3D%3D?line=12'>13</a>\u001b[0m \u001b[39mif\u001b[39;00m drawing \u001b[39m==\u001b[39m \u001b[39mTrue\u001b[39;00m:\n\u001b[0;32m     <a href='vscode-notebook-cell:/c%3A/Users/U/20181588/Homework1.ipynb#W3sZmlsZQ%3D%3D?line=13'>14</a>\u001b[0m     \u001b[39mif\u001b[39;00m mode \u001b[39m==\u001b[39m \u001b[39mTrue\u001b[39;00m:\n\u001b[1;32m---> <a href='vscode-notebook-cell:/c%3A/Users/U/20181588/Homework1.ipynb#W3sZmlsZQ%3D%3D?line=14'>15</a>\u001b[0m         cv2\u001b[39m.\u001b[39mrectangle(img,(ix,iy),(x,y),(img\u001b[39m.\u001b[39;49mitemset(\u001b[39m2\u001b[39;49m),\u001b[39m255\u001b[39m),\u001b[39m-\u001b[39m\u001b[39m1\u001b[39m)\n\u001b[0;32m     <a href='vscode-notebook-cell:/c%3A/Users/U/20181588/Homework1.ipynb#W3sZmlsZQ%3D%3D?line=15'>16</a>\u001b[0m     \u001b[39melse\u001b[39;00m:\n\u001b[0;32m     <a href='vscode-notebook-cell:/c%3A/Users/U/20181588/Homework1.ipynb#W3sZmlsZQ%3D%3D?line=16'>17</a>\u001b[0m         cv2\u001b[39m.\u001b[39mcircle(img,(x,y),\u001b[39m5\u001b[39m,(img\u001b[39m.\u001b[39mitemset(ix,iy,\u001b[39m2\u001b[39m),\u001b[39m255\u001b[39m),\u001b[39m-\u001b[39m\u001b[39m1\u001b[39m)\n",
      "\u001b[1;31mValueError\u001b[0m: can only convert an array of size 1 to a Python scalar"
     ]
    },
    {
     "ename": "ValueError",
     "evalue": "can only convert an array of size 1 to a Python scalar",
     "output_type": "error",
     "traceback": [
      "\u001b[1;31m---------------------------------------------------------------------------\u001b[0m",
      "\u001b[1;31mValueError\u001b[0m                                Traceback (most recent call last)",
      "\u001b[1;32mc:\\Users\\U\\20181588\\Homework1.ipynb 셀 4\u001b[0m in \u001b[0;36mdraw_circle\u001b[1;34m(event, x, y, flags, param)\u001b[0m\n\u001b[0;32m     <a href='vscode-notebook-cell:/c%3A/Users/U/20181588/Homework1.ipynb#W3sZmlsZQ%3D%3D?line=12'>13</a>\u001b[0m \u001b[39mif\u001b[39;00m drawing \u001b[39m==\u001b[39m \u001b[39mTrue\u001b[39;00m:\n\u001b[0;32m     <a href='vscode-notebook-cell:/c%3A/Users/U/20181588/Homework1.ipynb#W3sZmlsZQ%3D%3D?line=13'>14</a>\u001b[0m     \u001b[39mif\u001b[39;00m mode \u001b[39m==\u001b[39m \u001b[39mTrue\u001b[39;00m:\n\u001b[1;32m---> <a href='vscode-notebook-cell:/c%3A/Users/U/20181588/Homework1.ipynb#W3sZmlsZQ%3D%3D?line=14'>15</a>\u001b[0m         cv2\u001b[39m.\u001b[39mrectangle(img,(ix,iy),(x,y),(img\u001b[39m.\u001b[39;49mitemset(\u001b[39m2\u001b[39;49m),\u001b[39m255\u001b[39m),\u001b[39m-\u001b[39m\u001b[39m1\u001b[39m)\n\u001b[0;32m     <a href='vscode-notebook-cell:/c%3A/Users/U/20181588/Homework1.ipynb#W3sZmlsZQ%3D%3D?line=15'>16</a>\u001b[0m     \u001b[39melse\u001b[39;00m:\n\u001b[0;32m     <a href='vscode-notebook-cell:/c%3A/Users/U/20181588/Homework1.ipynb#W3sZmlsZQ%3D%3D?line=16'>17</a>\u001b[0m         cv2\u001b[39m.\u001b[39mcircle(img,(x,y),\u001b[39m5\u001b[39m,(img\u001b[39m.\u001b[39mitemset(ix,iy,\u001b[39m2\u001b[39m),\u001b[39m255\u001b[39m),\u001b[39m-\u001b[39m\u001b[39m1\u001b[39m)\n",
      "\u001b[1;31mValueError\u001b[0m: can only convert an array of size 1 to a Python scalar"
     ]
    },
    {
     "ename": "ValueError",
     "evalue": "can only convert an array of size 1 to a Python scalar",
     "output_type": "error",
     "traceback": [
      "\u001b[1;31m---------------------------------------------------------------------------\u001b[0m",
      "\u001b[1;31mValueError\u001b[0m                                Traceback (most recent call last)",
      "\u001b[1;32mc:\\Users\\U\\20181588\\Homework1.ipynb 셀 4\u001b[0m in \u001b[0;36mdraw_circle\u001b[1;34m(event, x, y, flags, param)\u001b[0m\n\u001b[0;32m     <a href='vscode-notebook-cell:/c%3A/Users/U/20181588/Homework1.ipynb#W3sZmlsZQ%3D%3D?line=12'>13</a>\u001b[0m \u001b[39mif\u001b[39;00m drawing \u001b[39m==\u001b[39m \u001b[39mTrue\u001b[39;00m:\n\u001b[0;32m     <a href='vscode-notebook-cell:/c%3A/Users/U/20181588/Homework1.ipynb#W3sZmlsZQ%3D%3D?line=13'>14</a>\u001b[0m     \u001b[39mif\u001b[39;00m mode \u001b[39m==\u001b[39m \u001b[39mTrue\u001b[39;00m:\n\u001b[1;32m---> <a href='vscode-notebook-cell:/c%3A/Users/U/20181588/Homework1.ipynb#W3sZmlsZQ%3D%3D?line=14'>15</a>\u001b[0m         cv2\u001b[39m.\u001b[39mrectangle(img,(ix,iy),(x,y),(img\u001b[39m.\u001b[39;49mitemset(\u001b[39m2\u001b[39;49m),\u001b[39m255\u001b[39m),\u001b[39m-\u001b[39m\u001b[39m1\u001b[39m)\n\u001b[0;32m     <a href='vscode-notebook-cell:/c%3A/Users/U/20181588/Homework1.ipynb#W3sZmlsZQ%3D%3D?line=15'>16</a>\u001b[0m     \u001b[39melse\u001b[39;00m:\n\u001b[0;32m     <a href='vscode-notebook-cell:/c%3A/Users/U/20181588/Homework1.ipynb#W3sZmlsZQ%3D%3D?line=16'>17</a>\u001b[0m         cv2\u001b[39m.\u001b[39mcircle(img,(x,y),\u001b[39m5\u001b[39m,(img\u001b[39m.\u001b[39mitemset(ix,iy,\u001b[39m2\u001b[39m),\u001b[39m255\u001b[39m),\u001b[39m-\u001b[39m\u001b[39m1\u001b[39m)\n",
      "\u001b[1;31mValueError\u001b[0m: can only convert an array of size 1 to a Python scalar"
     ]
    },
    {
     "ename": "ValueError",
     "evalue": "can only convert an array of size 1 to a Python scalar",
     "output_type": "error",
     "traceback": [
      "\u001b[1;31m---------------------------------------------------------------------------\u001b[0m",
      "\u001b[1;31mValueError\u001b[0m                                Traceback (most recent call last)",
      "\u001b[1;32mc:\\Users\\U\\20181588\\Homework1.ipynb 셀 4\u001b[0m in \u001b[0;36mdraw_circle\u001b[1;34m(event, x, y, flags, param)\u001b[0m\n\u001b[0;32m     <a href='vscode-notebook-cell:/c%3A/Users/U/20181588/Homework1.ipynb#W3sZmlsZQ%3D%3D?line=18'>19</a>\u001b[0m drawing \u001b[39m=\u001b[39m \u001b[39mFalse\u001b[39;00m\n\u001b[0;32m     <a href='vscode-notebook-cell:/c%3A/Users/U/20181588/Homework1.ipynb#W3sZmlsZQ%3D%3D?line=19'>20</a>\u001b[0m \u001b[39mif\u001b[39;00m mode \u001b[39m==\u001b[39m \u001b[39mTrue\u001b[39;00m:\n\u001b[1;32m---> <a href='vscode-notebook-cell:/c%3A/Users/U/20181588/Homework1.ipynb#W3sZmlsZQ%3D%3D?line=20'>21</a>\u001b[0m     cv2\u001b[39m.\u001b[39mrectangle(img,(ix,iy),(x,y),(img\u001b[39m.\u001b[39;49mitemset(\u001b[39m2\u001b[39;49m),\u001b[39m255\u001b[39m),\u001b[39m-\u001b[39m\u001b[39m1\u001b[39m)\n\u001b[0;32m     <a href='vscode-notebook-cell:/c%3A/Users/U/20181588/Homework1.ipynb#W3sZmlsZQ%3D%3D?line=21'>22</a>\u001b[0m \u001b[39melse\u001b[39;00m:\n\u001b[0;32m     <a href='vscode-notebook-cell:/c%3A/Users/U/20181588/Homework1.ipynb#W3sZmlsZQ%3D%3D?line=22'>23</a>\u001b[0m     cv2\u001b[39m.\u001b[39mcircle(img,(x,y),\u001b[39m5\u001b[39m,(\u001b[39m0\u001b[39m,\u001b[39m0\u001b[39m,\u001b[39m255\u001b[39m),\u001b[39m-\u001b[39m\u001b[39m1\u001b[39m)\n",
      "\u001b[1;31mValueError\u001b[0m: can only convert an array of size 1 to a Python scalar"
     ]
    },
    {
     "ename": "ValueError",
     "evalue": "can only convert an array of size 1 to a Python scalar",
     "output_type": "error",
     "traceback": [
      "\u001b[1;31m---------------------------------------------------------------------------\u001b[0m",
      "\u001b[1;31mValueError\u001b[0m                                Traceback (most recent call last)",
      "\u001b[1;32mc:\\Users\\U\\20181588\\Homework1.ipynb 셀 4\u001b[0m in \u001b[0;36mdraw_circle\u001b[1;34m(event, x, y, flags, param)\u001b[0m\n\u001b[0;32m     <a href='vscode-notebook-cell:/c%3A/Users/U/20181588/Homework1.ipynb#W3sZmlsZQ%3D%3D?line=12'>13</a>\u001b[0m \u001b[39mif\u001b[39;00m drawing \u001b[39m==\u001b[39m \u001b[39mTrue\u001b[39;00m:\n\u001b[0;32m     <a href='vscode-notebook-cell:/c%3A/Users/U/20181588/Homework1.ipynb#W3sZmlsZQ%3D%3D?line=13'>14</a>\u001b[0m     \u001b[39mif\u001b[39;00m mode \u001b[39m==\u001b[39m \u001b[39mTrue\u001b[39;00m:\n\u001b[1;32m---> <a href='vscode-notebook-cell:/c%3A/Users/U/20181588/Homework1.ipynb#W3sZmlsZQ%3D%3D?line=14'>15</a>\u001b[0m         cv2\u001b[39m.\u001b[39mrectangle(img,(ix,iy),(x,y),(img\u001b[39m.\u001b[39;49mitemset(\u001b[39m2\u001b[39;49m),\u001b[39m255\u001b[39m),\u001b[39m-\u001b[39m\u001b[39m1\u001b[39m)\n\u001b[0;32m     <a href='vscode-notebook-cell:/c%3A/Users/U/20181588/Homework1.ipynb#W3sZmlsZQ%3D%3D?line=15'>16</a>\u001b[0m     \u001b[39melse\u001b[39;00m:\n\u001b[0;32m     <a href='vscode-notebook-cell:/c%3A/Users/U/20181588/Homework1.ipynb#W3sZmlsZQ%3D%3D?line=16'>17</a>\u001b[0m         cv2\u001b[39m.\u001b[39mcircle(img,(x,y),\u001b[39m5\u001b[39m,(img\u001b[39m.\u001b[39mitemset(ix,iy,\u001b[39m2\u001b[39m),\u001b[39m255\u001b[39m),\u001b[39m-\u001b[39m\u001b[39m1\u001b[39m)\n",
      "\u001b[1;31mValueError\u001b[0m: can only convert an array of size 1 to a Python scalar"
     ]
    },
    {
     "ename": "ValueError",
     "evalue": "can only convert an array of size 1 to a Python scalar",
     "output_type": "error",
     "traceback": [
      "\u001b[1;31m---------------------------------------------------------------------------\u001b[0m",
      "\u001b[1;31mValueError\u001b[0m                                Traceback (most recent call last)",
      "\u001b[1;32mc:\\Users\\U\\20181588\\Homework1.ipynb 셀 4\u001b[0m in \u001b[0;36mdraw_circle\u001b[1;34m(event, x, y, flags, param)\u001b[0m\n\u001b[0;32m     <a href='vscode-notebook-cell:/c%3A/Users/U/20181588/Homework1.ipynb#W3sZmlsZQ%3D%3D?line=12'>13</a>\u001b[0m \u001b[39mif\u001b[39;00m drawing \u001b[39m==\u001b[39m \u001b[39mTrue\u001b[39;00m:\n\u001b[0;32m     <a href='vscode-notebook-cell:/c%3A/Users/U/20181588/Homework1.ipynb#W3sZmlsZQ%3D%3D?line=13'>14</a>\u001b[0m     \u001b[39mif\u001b[39;00m mode \u001b[39m==\u001b[39m \u001b[39mTrue\u001b[39;00m:\n\u001b[1;32m---> <a href='vscode-notebook-cell:/c%3A/Users/U/20181588/Homework1.ipynb#W3sZmlsZQ%3D%3D?line=14'>15</a>\u001b[0m         cv2\u001b[39m.\u001b[39mrectangle(img,(ix,iy),(x,y),(img\u001b[39m.\u001b[39;49mitemset(\u001b[39m2\u001b[39;49m),\u001b[39m255\u001b[39m),\u001b[39m-\u001b[39m\u001b[39m1\u001b[39m)\n\u001b[0;32m     <a href='vscode-notebook-cell:/c%3A/Users/U/20181588/Homework1.ipynb#W3sZmlsZQ%3D%3D?line=15'>16</a>\u001b[0m     \u001b[39melse\u001b[39;00m:\n\u001b[0;32m     <a href='vscode-notebook-cell:/c%3A/Users/U/20181588/Homework1.ipynb#W3sZmlsZQ%3D%3D?line=16'>17</a>\u001b[0m         cv2\u001b[39m.\u001b[39mcircle(img,(x,y),\u001b[39m5\u001b[39m,(img\u001b[39m.\u001b[39mitemset(ix,iy,\u001b[39m2\u001b[39m),\u001b[39m255\u001b[39m),\u001b[39m-\u001b[39m\u001b[39m1\u001b[39m)\n",
      "\u001b[1;31mValueError\u001b[0m: can only convert an array of size 1 to a Python scalar"
     ]
    },
    {
     "ename": "ValueError",
     "evalue": "can only convert an array of size 1 to a Python scalar",
     "output_type": "error",
     "traceback": [
      "\u001b[1;31m---------------------------------------------------------------------------\u001b[0m",
      "\u001b[1;31mValueError\u001b[0m                                Traceback (most recent call last)",
      "\u001b[1;32mc:\\Users\\U\\20181588\\Homework1.ipynb 셀 4\u001b[0m in \u001b[0;36mdraw_circle\u001b[1;34m(event, x, y, flags, param)\u001b[0m\n\u001b[0;32m     <a href='vscode-notebook-cell:/c%3A/Users/U/20181588/Homework1.ipynb#W3sZmlsZQ%3D%3D?line=12'>13</a>\u001b[0m \u001b[39mif\u001b[39;00m drawing \u001b[39m==\u001b[39m \u001b[39mTrue\u001b[39;00m:\n\u001b[0;32m     <a href='vscode-notebook-cell:/c%3A/Users/U/20181588/Homework1.ipynb#W3sZmlsZQ%3D%3D?line=13'>14</a>\u001b[0m     \u001b[39mif\u001b[39;00m mode \u001b[39m==\u001b[39m \u001b[39mTrue\u001b[39;00m:\n\u001b[1;32m---> <a href='vscode-notebook-cell:/c%3A/Users/U/20181588/Homework1.ipynb#W3sZmlsZQ%3D%3D?line=14'>15</a>\u001b[0m         cv2\u001b[39m.\u001b[39mrectangle(img,(ix,iy),(x,y),(img\u001b[39m.\u001b[39;49mitemset(\u001b[39m2\u001b[39;49m),\u001b[39m255\u001b[39m),\u001b[39m-\u001b[39m\u001b[39m1\u001b[39m)\n\u001b[0;32m     <a href='vscode-notebook-cell:/c%3A/Users/U/20181588/Homework1.ipynb#W3sZmlsZQ%3D%3D?line=15'>16</a>\u001b[0m     \u001b[39melse\u001b[39;00m:\n\u001b[0;32m     <a href='vscode-notebook-cell:/c%3A/Users/U/20181588/Homework1.ipynb#W3sZmlsZQ%3D%3D?line=16'>17</a>\u001b[0m         cv2\u001b[39m.\u001b[39mcircle(img,(x,y),\u001b[39m5\u001b[39m,(img\u001b[39m.\u001b[39mitemset(ix,iy,\u001b[39m2\u001b[39m),\u001b[39m255\u001b[39m),\u001b[39m-\u001b[39m\u001b[39m1\u001b[39m)\n",
      "\u001b[1;31mValueError\u001b[0m: can only convert an array of size 1 to a Python scalar"
     ]
    },
    {
     "ename": "ValueError",
     "evalue": "can only convert an array of size 1 to a Python scalar",
     "output_type": "error",
     "traceback": [
      "\u001b[1;31m---------------------------------------------------------------------------\u001b[0m",
      "\u001b[1;31mValueError\u001b[0m                                Traceback (most recent call last)",
      "\u001b[1;32mc:\\Users\\U\\20181588\\Homework1.ipynb 셀 4\u001b[0m in \u001b[0;36mdraw_circle\u001b[1;34m(event, x, y, flags, param)\u001b[0m\n\u001b[0;32m     <a href='vscode-notebook-cell:/c%3A/Users/U/20181588/Homework1.ipynb#W3sZmlsZQ%3D%3D?line=12'>13</a>\u001b[0m \u001b[39mif\u001b[39;00m drawing \u001b[39m==\u001b[39m \u001b[39mTrue\u001b[39;00m:\n\u001b[0;32m     <a href='vscode-notebook-cell:/c%3A/Users/U/20181588/Homework1.ipynb#W3sZmlsZQ%3D%3D?line=13'>14</a>\u001b[0m     \u001b[39mif\u001b[39;00m mode \u001b[39m==\u001b[39m \u001b[39mTrue\u001b[39;00m:\n\u001b[1;32m---> <a href='vscode-notebook-cell:/c%3A/Users/U/20181588/Homework1.ipynb#W3sZmlsZQ%3D%3D?line=14'>15</a>\u001b[0m         cv2\u001b[39m.\u001b[39mrectangle(img,(ix,iy),(x,y),(img\u001b[39m.\u001b[39;49mitemset(\u001b[39m2\u001b[39;49m),\u001b[39m255\u001b[39m),\u001b[39m-\u001b[39m\u001b[39m1\u001b[39m)\n\u001b[0;32m     <a href='vscode-notebook-cell:/c%3A/Users/U/20181588/Homework1.ipynb#W3sZmlsZQ%3D%3D?line=15'>16</a>\u001b[0m     \u001b[39melse\u001b[39;00m:\n\u001b[0;32m     <a href='vscode-notebook-cell:/c%3A/Users/U/20181588/Homework1.ipynb#W3sZmlsZQ%3D%3D?line=16'>17</a>\u001b[0m         cv2\u001b[39m.\u001b[39mcircle(img,(x,y),\u001b[39m5\u001b[39m,(img\u001b[39m.\u001b[39mitemset(ix,iy,\u001b[39m2\u001b[39m),\u001b[39m255\u001b[39m),\u001b[39m-\u001b[39m\u001b[39m1\u001b[39m)\n",
      "\u001b[1;31mValueError\u001b[0m: can only convert an array of size 1 to a Python scalar"
     ]
    },
    {
     "ename": "ValueError",
     "evalue": "can only convert an array of size 1 to a Python scalar",
     "output_type": "error",
     "traceback": [
      "\u001b[1;31m---------------------------------------------------------------------------\u001b[0m",
      "\u001b[1;31mValueError\u001b[0m                                Traceback (most recent call last)",
      "\u001b[1;32mc:\\Users\\U\\20181588\\Homework1.ipynb 셀 4\u001b[0m in \u001b[0;36mdraw_circle\u001b[1;34m(event, x, y, flags, param)\u001b[0m\n\u001b[0;32m     <a href='vscode-notebook-cell:/c%3A/Users/U/20181588/Homework1.ipynb#W3sZmlsZQ%3D%3D?line=12'>13</a>\u001b[0m \u001b[39mif\u001b[39;00m drawing \u001b[39m==\u001b[39m \u001b[39mTrue\u001b[39;00m:\n\u001b[0;32m     <a href='vscode-notebook-cell:/c%3A/Users/U/20181588/Homework1.ipynb#W3sZmlsZQ%3D%3D?line=13'>14</a>\u001b[0m     \u001b[39mif\u001b[39;00m mode \u001b[39m==\u001b[39m \u001b[39mTrue\u001b[39;00m:\n\u001b[1;32m---> <a href='vscode-notebook-cell:/c%3A/Users/U/20181588/Homework1.ipynb#W3sZmlsZQ%3D%3D?line=14'>15</a>\u001b[0m         cv2\u001b[39m.\u001b[39mrectangle(img,(ix,iy),(x,y),(img\u001b[39m.\u001b[39;49mitemset(\u001b[39m2\u001b[39;49m),\u001b[39m255\u001b[39m),\u001b[39m-\u001b[39m\u001b[39m1\u001b[39m)\n\u001b[0;32m     <a href='vscode-notebook-cell:/c%3A/Users/U/20181588/Homework1.ipynb#W3sZmlsZQ%3D%3D?line=15'>16</a>\u001b[0m     \u001b[39melse\u001b[39;00m:\n\u001b[0;32m     <a href='vscode-notebook-cell:/c%3A/Users/U/20181588/Homework1.ipynb#W3sZmlsZQ%3D%3D?line=16'>17</a>\u001b[0m         cv2\u001b[39m.\u001b[39mcircle(img,(x,y),\u001b[39m5\u001b[39m,(img\u001b[39m.\u001b[39mitemset(ix,iy,\u001b[39m2\u001b[39m),\u001b[39m255\u001b[39m),\u001b[39m-\u001b[39m\u001b[39m1\u001b[39m)\n",
      "\u001b[1;31mValueError\u001b[0m: can only convert an array of size 1 to a Python scalar"
     ]
    },
    {
     "ename": "ValueError",
     "evalue": "can only convert an array of size 1 to a Python scalar",
     "output_type": "error",
     "traceback": [
      "\u001b[1;31m---------------------------------------------------------------------------\u001b[0m",
      "\u001b[1;31mValueError\u001b[0m                                Traceback (most recent call last)",
      "\u001b[1;32mc:\\Users\\U\\20181588\\Homework1.ipynb 셀 4\u001b[0m in \u001b[0;36mdraw_circle\u001b[1;34m(event, x, y, flags, param)\u001b[0m\n\u001b[0;32m     <a href='vscode-notebook-cell:/c%3A/Users/U/20181588/Homework1.ipynb#W3sZmlsZQ%3D%3D?line=12'>13</a>\u001b[0m \u001b[39mif\u001b[39;00m drawing \u001b[39m==\u001b[39m \u001b[39mTrue\u001b[39;00m:\n\u001b[0;32m     <a href='vscode-notebook-cell:/c%3A/Users/U/20181588/Homework1.ipynb#W3sZmlsZQ%3D%3D?line=13'>14</a>\u001b[0m     \u001b[39mif\u001b[39;00m mode \u001b[39m==\u001b[39m \u001b[39mTrue\u001b[39;00m:\n\u001b[1;32m---> <a href='vscode-notebook-cell:/c%3A/Users/U/20181588/Homework1.ipynb#W3sZmlsZQ%3D%3D?line=14'>15</a>\u001b[0m         cv2\u001b[39m.\u001b[39mrectangle(img,(ix,iy),(x,y),(img\u001b[39m.\u001b[39;49mitemset(\u001b[39m2\u001b[39;49m),\u001b[39m255\u001b[39m),\u001b[39m-\u001b[39m\u001b[39m1\u001b[39m)\n\u001b[0;32m     <a href='vscode-notebook-cell:/c%3A/Users/U/20181588/Homework1.ipynb#W3sZmlsZQ%3D%3D?line=15'>16</a>\u001b[0m     \u001b[39melse\u001b[39;00m:\n\u001b[0;32m     <a href='vscode-notebook-cell:/c%3A/Users/U/20181588/Homework1.ipynb#W3sZmlsZQ%3D%3D?line=16'>17</a>\u001b[0m         cv2\u001b[39m.\u001b[39mcircle(img,(x,y),\u001b[39m5\u001b[39m,(img\u001b[39m.\u001b[39mitemset(ix,iy,\u001b[39m2\u001b[39m),\u001b[39m255\u001b[39m),\u001b[39m-\u001b[39m\u001b[39m1\u001b[39m)\n",
      "\u001b[1;31mValueError\u001b[0m: can only convert an array of size 1 to a Python scalar"
     ]
    },
    {
     "ename": "ValueError",
     "evalue": "can only convert an array of size 1 to a Python scalar",
     "output_type": "error",
     "traceback": [
      "\u001b[1;31m---------------------------------------------------------------------------\u001b[0m",
      "\u001b[1;31mValueError\u001b[0m                                Traceback (most recent call last)",
      "\u001b[1;32mc:\\Users\\U\\20181588\\Homework1.ipynb 셀 4\u001b[0m in \u001b[0;36mdraw_circle\u001b[1;34m(event, x, y, flags, param)\u001b[0m\n\u001b[0;32m     <a href='vscode-notebook-cell:/c%3A/Users/U/20181588/Homework1.ipynb#W3sZmlsZQ%3D%3D?line=12'>13</a>\u001b[0m \u001b[39mif\u001b[39;00m drawing \u001b[39m==\u001b[39m \u001b[39mTrue\u001b[39;00m:\n\u001b[0;32m     <a href='vscode-notebook-cell:/c%3A/Users/U/20181588/Homework1.ipynb#W3sZmlsZQ%3D%3D?line=13'>14</a>\u001b[0m     \u001b[39mif\u001b[39;00m mode \u001b[39m==\u001b[39m \u001b[39mTrue\u001b[39;00m:\n\u001b[1;32m---> <a href='vscode-notebook-cell:/c%3A/Users/U/20181588/Homework1.ipynb#W3sZmlsZQ%3D%3D?line=14'>15</a>\u001b[0m         cv2\u001b[39m.\u001b[39mrectangle(img,(ix,iy),(x,y),(img\u001b[39m.\u001b[39;49mitemset(\u001b[39m2\u001b[39;49m),\u001b[39m255\u001b[39m),\u001b[39m-\u001b[39m\u001b[39m1\u001b[39m)\n\u001b[0;32m     <a href='vscode-notebook-cell:/c%3A/Users/U/20181588/Homework1.ipynb#W3sZmlsZQ%3D%3D?line=15'>16</a>\u001b[0m     \u001b[39melse\u001b[39;00m:\n\u001b[0;32m     <a href='vscode-notebook-cell:/c%3A/Users/U/20181588/Homework1.ipynb#W3sZmlsZQ%3D%3D?line=16'>17</a>\u001b[0m         cv2\u001b[39m.\u001b[39mcircle(img,(x,y),\u001b[39m5\u001b[39m,(img\u001b[39m.\u001b[39mitemset(ix,iy,\u001b[39m2\u001b[39m),\u001b[39m255\u001b[39m),\u001b[39m-\u001b[39m\u001b[39m1\u001b[39m)\n",
      "\u001b[1;31mValueError\u001b[0m: can only convert an array of size 1 to a Python scalar"
     ]
    },
    {
     "ename": "ValueError",
     "evalue": "can only convert an array of size 1 to a Python scalar",
     "output_type": "error",
     "traceback": [
      "\u001b[1;31m---------------------------------------------------------------------------\u001b[0m",
      "\u001b[1;31mValueError\u001b[0m                                Traceback (most recent call last)",
      "\u001b[1;32mc:\\Users\\U\\20181588\\Homework1.ipynb 셀 4\u001b[0m in \u001b[0;36mdraw_circle\u001b[1;34m(event, x, y, flags, param)\u001b[0m\n\u001b[0;32m     <a href='vscode-notebook-cell:/c%3A/Users/U/20181588/Homework1.ipynb#W3sZmlsZQ%3D%3D?line=18'>19</a>\u001b[0m drawing \u001b[39m=\u001b[39m \u001b[39mFalse\u001b[39;00m\n\u001b[0;32m     <a href='vscode-notebook-cell:/c%3A/Users/U/20181588/Homework1.ipynb#W3sZmlsZQ%3D%3D?line=19'>20</a>\u001b[0m \u001b[39mif\u001b[39;00m mode \u001b[39m==\u001b[39m \u001b[39mTrue\u001b[39;00m:\n\u001b[1;32m---> <a href='vscode-notebook-cell:/c%3A/Users/U/20181588/Homework1.ipynb#W3sZmlsZQ%3D%3D?line=20'>21</a>\u001b[0m     cv2\u001b[39m.\u001b[39mrectangle(img,(ix,iy),(x,y),(img\u001b[39m.\u001b[39;49mitemset(\u001b[39m2\u001b[39;49m),\u001b[39m255\u001b[39m),\u001b[39m-\u001b[39m\u001b[39m1\u001b[39m)\n\u001b[0;32m     <a href='vscode-notebook-cell:/c%3A/Users/U/20181588/Homework1.ipynb#W3sZmlsZQ%3D%3D?line=21'>22</a>\u001b[0m \u001b[39melse\u001b[39;00m:\n\u001b[0;32m     <a href='vscode-notebook-cell:/c%3A/Users/U/20181588/Homework1.ipynb#W3sZmlsZQ%3D%3D?line=22'>23</a>\u001b[0m     cv2\u001b[39m.\u001b[39mcircle(img,(x,y),\u001b[39m5\u001b[39m,(\u001b[39m0\u001b[39m,\u001b[39m0\u001b[39m,\u001b[39m255\u001b[39m),\u001b[39m-\u001b[39m\u001b[39m1\u001b[39m)\n",
      "\u001b[1;31mValueError\u001b[0m: can only convert an array of size 1 to a Python scalar"
     ]
    },
    {
     "ename": "ValueError",
     "evalue": "can only convert an array of size 1 to a Python scalar",
     "output_type": "error",
     "traceback": [
      "\u001b[1;31m---------------------------------------------------------------------------\u001b[0m",
      "\u001b[1;31mValueError\u001b[0m                                Traceback (most recent call last)",
      "\u001b[1;32mc:\\Users\\U\\20181588\\Homework1.ipynb 셀 4\u001b[0m in \u001b[0;36mdraw_circle\u001b[1;34m(event, x, y, flags, param)\u001b[0m\n\u001b[0;32m     <a href='vscode-notebook-cell:/c%3A/Users/U/20181588/Homework1.ipynb#W3sZmlsZQ%3D%3D?line=12'>13</a>\u001b[0m \u001b[39mif\u001b[39;00m drawing \u001b[39m==\u001b[39m \u001b[39mTrue\u001b[39;00m:\n\u001b[0;32m     <a href='vscode-notebook-cell:/c%3A/Users/U/20181588/Homework1.ipynb#W3sZmlsZQ%3D%3D?line=13'>14</a>\u001b[0m     \u001b[39mif\u001b[39;00m mode \u001b[39m==\u001b[39m \u001b[39mTrue\u001b[39;00m:\n\u001b[1;32m---> <a href='vscode-notebook-cell:/c%3A/Users/U/20181588/Homework1.ipynb#W3sZmlsZQ%3D%3D?line=14'>15</a>\u001b[0m         cv2\u001b[39m.\u001b[39mrectangle(img,(ix,iy),(x,y),(img\u001b[39m.\u001b[39;49mitemset(\u001b[39m2\u001b[39;49m),\u001b[39m255\u001b[39m),\u001b[39m-\u001b[39m\u001b[39m1\u001b[39m)\n\u001b[0;32m     <a href='vscode-notebook-cell:/c%3A/Users/U/20181588/Homework1.ipynb#W3sZmlsZQ%3D%3D?line=15'>16</a>\u001b[0m     \u001b[39melse\u001b[39;00m:\n\u001b[0;32m     <a href='vscode-notebook-cell:/c%3A/Users/U/20181588/Homework1.ipynb#W3sZmlsZQ%3D%3D?line=16'>17</a>\u001b[0m         cv2\u001b[39m.\u001b[39mcircle(img,(x,y),\u001b[39m5\u001b[39m,(img\u001b[39m.\u001b[39mitemset(ix,iy,\u001b[39m2\u001b[39m),\u001b[39m255\u001b[39m),\u001b[39m-\u001b[39m\u001b[39m1\u001b[39m)\n",
      "\u001b[1;31mValueError\u001b[0m: can only convert an array of size 1 to a Python scalar"
     ]
    },
    {
     "ename": "ValueError",
     "evalue": "can only convert an array of size 1 to a Python scalar",
     "output_type": "error",
     "traceback": [
      "\u001b[1;31m---------------------------------------------------------------------------\u001b[0m",
      "\u001b[1;31mValueError\u001b[0m                                Traceback (most recent call last)",
      "\u001b[1;32mc:\\Users\\U\\20181588\\Homework1.ipynb 셀 4\u001b[0m in \u001b[0;36mdraw_circle\u001b[1;34m(event, x, y, flags, param)\u001b[0m\n\u001b[0;32m     <a href='vscode-notebook-cell:/c%3A/Users/U/20181588/Homework1.ipynb#W3sZmlsZQ%3D%3D?line=12'>13</a>\u001b[0m \u001b[39mif\u001b[39;00m drawing \u001b[39m==\u001b[39m \u001b[39mTrue\u001b[39;00m:\n\u001b[0;32m     <a href='vscode-notebook-cell:/c%3A/Users/U/20181588/Homework1.ipynb#W3sZmlsZQ%3D%3D?line=13'>14</a>\u001b[0m     \u001b[39mif\u001b[39;00m mode \u001b[39m==\u001b[39m \u001b[39mTrue\u001b[39;00m:\n\u001b[1;32m---> <a href='vscode-notebook-cell:/c%3A/Users/U/20181588/Homework1.ipynb#W3sZmlsZQ%3D%3D?line=14'>15</a>\u001b[0m         cv2\u001b[39m.\u001b[39mrectangle(img,(ix,iy),(x,y),(img\u001b[39m.\u001b[39;49mitemset(\u001b[39m2\u001b[39;49m),\u001b[39m255\u001b[39m),\u001b[39m-\u001b[39m\u001b[39m1\u001b[39m)\n\u001b[0;32m     <a href='vscode-notebook-cell:/c%3A/Users/U/20181588/Homework1.ipynb#W3sZmlsZQ%3D%3D?line=15'>16</a>\u001b[0m     \u001b[39melse\u001b[39;00m:\n\u001b[0;32m     <a href='vscode-notebook-cell:/c%3A/Users/U/20181588/Homework1.ipynb#W3sZmlsZQ%3D%3D?line=16'>17</a>\u001b[0m         cv2\u001b[39m.\u001b[39mcircle(img,(x,y),\u001b[39m5\u001b[39m,(img\u001b[39m.\u001b[39mitemset(ix,iy,\u001b[39m2\u001b[39m),\u001b[39m255\u001b[39m),\u001b[39m-\u001b[39m\u001b[39m1\u001b[39m)\n",
      "\u001b[1;31mValueError\u001b[0m: can only convert an array of size 1 to a Python scalar"
     ]
    },
    {
     "ename": "ValueError",
     "evalue": "can only convert an array of size 1 to a Python scalar",
     "output_type": "error",
     "traceback": [
      "\u001b[1;31m---------------------------------------------------------------------------\u001b[0m",
      "\u001b[1;31mValueError\u001b[0m                                Traceback (most recent call last)",
      "\u001b[1;32mc:\\Users\\U\\20181588\\Homework1.ipynb 셀 4\u001b[0m in \u001b[0;36mdraw_circle\u001b[1;34m(event, x, y, flags, param)\u001b[0m\n\u001b[0;32m     <a href='vscode-notebook-cell:/c%3A/Users/U/20181588/Homework1.ipynb#W3sZmlsZQ%3D%3D?line=12'>13</a>\u001b[0m \u001b[39mif\u001b[39;00m drawing \u001b[39m==\u001b[39m \u001b[39mTrue\u001b[39;00m:\n\u001b[0;32m     <a href='vscode-notebook-cell:/c%3A/Users/U/20181588/Homework1.ipynb#W3sZmlsZQ%3D%3D?line=13'>14</a>\u001b[0m     \u001b[39mif\u001b[39;00m mode \u001b[39m==\u001b[39m \u001b[39mTrue\u001b[39;00m:\n\u001b[1;32m---> <a href='vscode-notebook-cell:/c%3A/Users/U/20181588/Homework1.ipynb#W3sZmlsZQ%3D%3D?line=14'>15</a>\u001b[0m         cv2\u001b[39m.\u001b[39mrectangle(img,(ix,iy),(x,y),(img\u001b[39m.\u001b[39;49mitemset(\u001b[39m2\u001b[39;49m),\u001b[39m255\u001b[39m),\u001b[39m-\u001b[39m\u001b[39m1\u001b[39m)\n\u001b[0;32m     <a href='vscode-notebook-cell:/c%3A/Users/U/20181588/Homework1.ipynb#W3sZmlsZQ%3D%3D?line=15'>16</a>\u001b[0m     \u001b[39melse\u001b[39;00m:\n\u001b[0;32m     <a href='vscode-notebook-cell:/c%3A/Users/U/20181588/Homework1.ipynb#W3sZmlsZQ%3D%3D?line=16'>17</a>\u001b[0m         cv2\u001b[39m.\u001b[39mcircle(img,(x,y),\u001b[39m5\u001b[39m,(img\u001b[39m.\u001b[39mitemset(ix,iy,\u001b[39m2\u001b[39m),\u001b[39m255\u001b[39m),\u001b[39m-\u001b[39m\u001b[39m1\u001b[39m)\n",
      "\u001b[1;31mValueError\u001b[0m: can only convert an array of size 1 to a Python scalar"
     ]
    },
    {
     "ename": "ValueError",
     "evalue": "can only convert an array of size 1 to a Python scalar",
     "output_type": "error",
     "traceback": [
      "\u001b[1;31m---------------------------------------------------------------------------\u001b[0m",
      "\u001b[1;31mValueError\u001b[0m                                Traceback (most recent call last)",
      "\u001b[1;32mc:\\Users\\U\\20181588\\Homework1.ipynb 셀 4\u001b[0m in \u001b[0;36mdraw_circle\u001b[1;34m(event, x, y, flags, param)\u001b[0m\n\u001b[0;32m     <a href='vscode-notebook-cell:/c%3A/Users/U/20181588/Homework1.ipynb#W3sZmlsZQ%3D%3D?line=12'>13</a>\u001b[0m \u001b[39mif\u001b[39;00m drawing \u001b[39m==\u001b[39m \u001b[39mTrue\u001b[39;00m:\n\u001b[0;32m     <a href='vscode-notebook-cell:/c%3A/Users/U/20181588/Homework1.ipynb#W3sZmlsZQ%3D%3D?line=13'>14</a>\u001b[0m     \u001b[39mif\u001b[39;00m mode \u001b[39m==\u001b[39m \u001b[39mTrue\u001b[39;00m:\n\u001b[1;32m---> <a href='vscode-notebook-cell:/c%3A/Users/U/20181588/Homework1.ipynb#W3sZmlsZQ%3D%3D?line=14'>15</a>\u001b[0m         cv2\u001b[39m.\u001b[39mrectangle(img,(ix,iy),(x,y),(img\u001b[39m.\u001b[39;49mitemset(\u001b[39m2\u001b[39;49m),\u001b[39m255\u001b[39m),\u001b[39m-\u001b[39m\u001b[39m1\u001b[39m)\n\u001b[0;32m     <a href='vscode-notebook-cell:/c%3A/Users/U/20181588/Homework1.ipynb#W3sZmlsZQ%3D%3D?line=15'>16</a>\u001b[0m     \u001b[39melse\u001b[39;00m:\n\u001b[0;32m     <a href='vscode-notebook-cell:/c%3A/Users/U/20181588/Homework1.ipynb#W3sZmlsZQ%3D%3D?line=16'>17</a>\u001b[0m         cv2\u001b[39m.\u001b[39mcircle(img,(x,y),\u001b[39m5\u001b[39m,(img\u001b[39m.\u001b[39mitemset(ix,iy,\u001b[39m2\u001b[39m),\u001b[39m255\u001b[39m),\u001b[39m-\u001b[39m\u001b[39m1\u001b[39m)\n",
      "\u001b[1;31mValueError\u001b[0m: can only convert an array of size 1 to a Python scalar"
     ]
    },
    {
     "ename": "ValueError",
     "evalue": "can only convert an array of size 1 to a Python scalar",
     "output_type": "error",
     "traceback": [
      "\u001b[1;31m---------------------------------------------------------------------------\u001b[0m",
      "\u001b[1;31mValueError\u001b[0m                                Traceback (most recent call last)",
      "\u001b[1;32mc:\\Users\\U\\20181588\\Homework1.ipynb 셀 4\u001b[0m in \u001b[0;36mdraw_circle\u001b[1;34m(event, x, y, flags, param)\u001b[0m\n\u001b[0;32m     <a href='vscode-notebook-cell:/c%3A/Users/U/20181588/Homework1.ipynb#W3sZmlsZQ%3D%3D?line=12'>13</a>\u001b[0m \u001b[39mif\u001b[39;00m drawing \u001b[39m==\u001b[39m \u001b[39mTrue\u001b[39;00m:\n\u001b[0;32m     <a href='vscode-notebook-cell:/c%3A/Users/U/20181588/Homework1.ipynb#W3sZmlsZQ%3D%3D?line=13'>14</a>\u001b[0m     \u001b[39mif\u001b[39;00m mode \u001b[39m==\u001b[39m \u001b[39mTrue\u001b[39;00m:\n\u001b[1;32m---> <a href='vscode-notebook-cell:/c%3A/Users/U/20181588/Homework1.ipynb#W3sZmlsZQ%3D%3D?line=14'>15</a>\u001b[0m         cv2\u001b[39m.\u001b[39mrectangle(img,(ix,iy),(x,y),(img\u001b[39m.\u001b[39;49mitemset(\u001b[39m2\u001b[39;49m),\u001b[39m255\u001b[39m),\u001b[39m-\u001b[39m\u001b[39m1\u001b[39m)\n\u001b[0;32m     <a href='vscode-notebook-cell:/c%3A/Users/U/20181588/Homework1.ipynb#W3sZmlsZQ%3D%3D?line=15'>16</a>\u001b[0m     \u001b[39melse\u001b[39;00m:\n\u001b[0;32m     <a href='vscode-notebook-cell:/c%3A/Users/U/20181588/Homework1.ipynb#W3sZmlsZQ%3D%3D?line=16'>17</a>\u001b[0m         cv2\u001b[39m.\u001b[39mcircle(img,(x,y),\u001b[39m5\u001b[39m,(img\u001b[39m.\u001b[39mitemset(ix,iy,\u001b[39m2\u001b[39m),\u001b[39m255\u001b[39m),\u001b[39m-\u001b[39m\u001b[39m1\u001b[39m)\n",
      "\u001b[1;31mValueError\u001b[0m: can only convert an array of size 1 to a Python scalar"
     ]
    },
    {
     "ename": "ValueError",
     "evalue": "can only convert an array of size 1 to a Python scalar",
     "output_type": "error",
     "traceback": [
      "\u001b[1;31m---------------------------------------------------------------------------\u001b[0m",
      "\u001b[1;31mValueError\u001b[0m                                Traceback (most recent call last)",
      "\u001b[1;32mc:\\Users\\U\\20181588\\Homework1.ipynb 셀 4\u001b[0m in \u001b[0;36mdraw_circle\u001b[1;34m(event, x, y, flags, param)\u001b[0m\n\u001b[0;32m     <a href='vscode-notebook-cell:/c%3A/Users/U/20181588/Homework1.ipynb#W3sZmlsZQ%3D%3D?line=12'>13</a>\u001b[0m \u001b[39mif\u001b[39;00m drawing \u001b[39m==\u001b[39m \u001b[39mTrue\u001b[39;00m:\n\u001b[0;32m     <a href='vscode-notebook-cell:/c%3A/Users/U/20181588/Homework1.ipynb#W3sZmlsZQ%3D%3D?line=13'>14</a>\u001b[0m     \u001b[39mif\u001b[39;00m mode \u001b[39m==\u001b[39m \u001b[39mTrue\u001b[39;00m:\n\u001b[1;32m---> <a href='vscode-notebook-cell:/c%3A/Users/U/20181588/Homework1.ipynb#W3sZmlsZQ%3D%3D?line=14'>15</a>\u001b[0m         cv2\u001b[39m.\u001b[39mrectangle(img,(ix,iy),(x,y),(img\u001b[39m.\u001b[39;49mitemset(\u001b[39m2\u001b[39;49m),\u001b[39m255\u001b[39m),\u001b[39m-\u001b[39m\u001b[39m1\u001b[39m)\n\u001b[0;32m     <a href='vscode-notebook-cell:/c%3A/Users/U/20181588/Homework1.ipynb#W3sZmlsZQ%3D%3D?line=15'>16</a>\u001b[0m     \u001b[39melse\u001b[39;00m:\n\u001b[0;32m     <a href='vscode-notebook-cell:/c%3A/Users/U/20181588/Homework1.ipynb#W3sZmlsZQ%3D%3D?line=16'>17</a>\u001b[0m         cv2\u001b[39m.\u001b[39mcircle(img,(x,y),\u001b[39m5\u001b[39m,(img\u001b[39m.\u001b[39mitemset(ix,iy,\u001b[39m2\u001b[39m),\u001b[39m255\u001b[39m),\u001b[39m-\u001b[39m\u001b[39m1\u001b[39m)\n",
      "\u001b[1;31mValueError\u001b[0m: can only convert an array of size 1 to a Python scalar"
     ]
    },
    {
     "ename": "ValueError",
     "evalue": "can only convert an array of size 1 to a Python scalar",
     "output_type": "error",
     "traceback": [
      "\u001b[1;31m---------------------------------------------------------------------------\u001b[0m",
      "\u001b[1;31mValueError\u001b[0m                                Traceback (most recent call last)",
      "\u001b[1;32mc:\\Users\\U\\20181588\\Homework1.ipynb 셀 4\u001b[0m in \u001b[0;36mdraw_circle\u001b[1;34m(event, x, y, flags, param)\u001b[0m\n\u001b[0;32m     <a href='vscode-notebook-cell:/c%3A/Users/U/20181588/Homework1.ipynb#W3sZmlsZQ%3D%3D?line=12'>13</a>\u001b[0m \u001b[39mif\u001b[39;00m drawing \u001b[39m==\u001b[39m \u001b[39mTrue\u001b[39;00m:\n\u001b[0;32m     <a href='vscode-notebook-cell:/c%3A/Users/U/20181588/Homework1.ipynb#W3sZmlsZQ%3D%3D?line=13'>14</a>\u001b[0m     \u001b[39mif\u001b[39;00m mode \u001b[39m==\u001b[39m \u001b[39mTrue\u001b[39;00m:\n\u001b[1;32m---> <a href='vscode-notebook-cell:/c%3A/Users/U/20181588/Homework1.ipynb#W3sZmlsZQ%3D%3D?line=14'>15</a>\u001b[0m         cv2\u001b[39m.\u001b[39mrectangle(img,(ix,iy),(x,y),(img\u001b[39m.\u001b[39;49mitemset(\u001b[39m2\u001b[39;49m),\u001b[39m255\u001b[39m),\u001b[39m-\u001b[39m\u001b[39m1\u001b[39m)\n\u001b[0;32m     <a href='vscode-notebook-cell:/c%3A/Users/U/20181588/Homework1.ipynb#W3sZmlsZQ%3D%3D?line=15'>16</a>\u001b[0m     \u001b[39melse\u001b[39;00m:\n\u001b[0;32m     <a href='vscode-notebook-cell:/c%3A/Users/U/20181588/Homework1.ipynb#W3sZmlsZQ%3D%3D?line=16'>17</a>\u001b[0m         cv2\u001b[39m.\u001b[39mcircle(img,(x,y),\u001b[39m5\u001b[39m,(img\u001b[39m.\u001b[39mitemset(ix,iy,\u001b[39m2\u001b[39m),\u001b[39m255\u001b[39m),\u001b[39m-\u001b[39m\u001b[39m1\u001b[39m)\n",
      "\u001b[1;31mValueError\u001b[0m: can only convert an array of size 1 to a Python scalar"
     ]
    },
    {
     "ename": "ValueError",
     "evalue": "can only convert an array of size 1 to a Python scalar",
     "output_type": "error",
     "traceback": [
      "\u001b[1;31m---------------------------------------------------------------------------\u001b[0m",
      "\u001b[1;31mValueError\u001b[0m                                Traceback (most recent call last)",
      "\u001b[1;32mc:\\Users\\U\\20181588\\Homework1.ipynb 셀 4\u001b[0m in \u001b[0;36mdraw_circle\u001b[1;34m(event, x, y, flags, param)\u001b[0m\n\u001b[0;32m     <a href='vscode-notebook-cell:/c%3A/Users/U/20181588/Homework1.ipynb#W3sZmlsZQ%3D%3D?line=12'>13</a>\u001b[0m \u001b[39mif\u001b[39;00m drawing \u001b[39m==\u001b[39m \u001b[39mTrue\u001b[39;00m:\n\u001b[0;32m     <a href='vscode-notebook-cell:/c%3A/Users/U/20181588/Homework1.ipynb#W3sZmlsZQ%3D%3D?line=13'>14</a>\u001b[0m     \u001b[39mif\u001b[39;00m mode \u001b[39m==\u001b[39m \u001b[39mTrue\u001b[39;00m:\n\u001b[1;32m---> <a href='vscode-notebook-cell:/c%3A/Users/U/20181588/Homework1.ipynb#W3sZmlsZQ%3D%3D?line=14'>15</a>\u001b[0m         cv2\u001b[39m.\u001b[39mrectangle(img,(ix,iy),(x,y),(img\u001b[39m.\u001b[39;49mitemset(\u001b[39m2\u001b[39;49m),\u001b[39m255\u001b[39m),\u001b[39m-\u001b[39m\u001b[39m1\u001b[39m)\n\u001b[0;32m     <a href='vscode-notebook-cell:/c%3A/Users/U/20181588/Homework1.ipynb#W3sZmlsZQ%3D%3D?line=15'>16</a>\u001b[0m     \u001b[39melse\u001b[39;00m:\n\u001b[0;32m     <a href='vscode-notebook-cell:/c%3A/Users/U/20181588/Homework1.ipynb#W3sZmlsZQ%3D%3D?line=16'>17</a>\u001b[0m         cv2\u001b[39m.\u001b[39mcircle(img,(x,y),\u001b[39m5\u001b[39m,(img\u001b[39m.\u001b[39mitemset(ix,iy,\u001b[39m2\u001b[39m),\u001b[39m255\u001b[39m),\u001b[39m-\u001b[39m\u001b[39m1\u001b[39m)\n",
      "\u001b[1;31mValueError\u001b[0m: can only convert an array of size 1 to a Python scalar"
     ]
    },
    {
     "ename": "ValueError",
     "evalue": "can only convert an array of size 1 to a Python scalar",
     "output_type": "error",
     "traceback": [
      "\u001b[1;31m---------------------------------------------------------------------------\u001b[0m",
      "\u001b[1;31mValueError\u001b[0m                                Traceback (most recent call last)",
      "\u001b[1;32mc:\\Users\\U\\20181588\\Homework1.ipynb 셀 4\u001b[0m in \u001b[0;36mdraw_circle\u001b[1;34m(event, x, y, flags, param)\u001b[0m\n\u001b[0;32m     <a href='vscode-notebook-cell:/c%3A/Users/U/20181588/Homework1.ipynb#W3sZmlsZQ%3D%3D?line=12'>13</a>\u001b[0m \u001b[39mif\u001b[39;00m drawing \u001b[39m==\u001b[39m \u001b[39mTrue\u001b[39;00m:\n\u001b[0;32m     <a href='vscode-notebook-cell:/c%3A/Users/U/20181588/Homework1.ipynb#W3sZmlsZQ%3D%3D?line=13'>14</a>\u001b[0m     \u001b[39mif\u001b[39;00m mode \u001b[39m==\u001b[39m \u001b[39mTrue\u001b[39;00m:\n\u001b[1;32m---> <a href='vscode-notebook-cell:/c%3A/Users/U/20181588/Homework1.ipynb#W3sZmlsZQ%3D%3D?line=14'>15</a>\u001b[0m         cv2\u001b[39m.\u001b[39mrectangle(img,(ix,iy),(x,y),(img\u001b[39m.\u001b[39;49mitemset(\u001b[39m2\u001b[39;49m),\u001b[39m255\u001b[39m),\u001b[39m-\u001b[39m\u001b[39m1\u001b[39m)\n\u001b[0;32m     <a href='vscode-notebook-cell:/c%3A/Users/U/20181588/Homework1.ipynb#W3sZmlsZQ%3D%3D?line=15'>16</a>\u001b[0m     \u001b[39melse\u001b[39;00m:\n\u001b[0;32m     <a href='vscode-notebook-cell:/c%3A/Users/U/20181588/Homework1.ipynb#W3sZmlsZQ%3D%3D?line=16'>17</a>\u001b[0m         cv2\u001b[39m.\u001b[39mcircle(img,(x,y),\u001b[39m5\u001b[39m,(img\u001b[39m.\u001b[39mitemset(ix,iy,\u001b[39m2\u001b[39m),\u001b[39m255\u001b[39m),\u001b[39m-\u001b[39m\u001b[39m1\u001b[39m)\n",
      "\u001b[1;31mValueError\u001b[0m: can only convert an array of size 1 to a Python scalar"
     ]
    },
    {
     "ename": "ValueError",
     "evalue": "can only convert an array of size 1 to a Python scalar",
     "output_type": "error",
     "traceback": [
      "\u001b[1;31m---------------------------------------------------------------------------\u001b[0m",
      "\u001b[1;31mValueError\u001b[0m                                Traceback (most recent call last)",
      "\u001b[1;32mc:\\Users\\U\\20181588\\Homework1.ipynb 셀 4\u001b[0m in \u001b[0;36mdraw_circle\u001b[1;34m(event, x, y, flags, param)\u001b[0m\n\u001b[0;32m     <a href='vscode-notebook-cell:/c%3A/Users/U/20181588/Homework1.ipynb#W3sZmlsZQ%3D%3D?line=12'>13</a>\u001b[0m \u001b[39mif\u001b[39;00m drawing \u001b[39m==\u001b[39m \u001b[39mTrue\u001b[39;00m:\n\u001b[0;32m     <a href='vscode-notebook-cell:/c%3A/Users/U/20181588/Homework1.ipynb#W3sZmlsZQ%3D%3D?line=13'>14</a>\u001b[0m     \u001b[39mif\u001b[39;00m mode \u001b[39m==\u001b[39m \u001b[39mTrue\u001b[39;00m:\n\u001b[1;32m---> <a href='vscode-notebook-cell:/c%3A/Users/U/20181588/Homework1.ipynb#W3sZmlsZQ%3D%3D?line=14'>15</a>\u001b[0m         cv2\u001b[39m.\u001b[39mrectangle(img,(ix,iy),(x,y),(img\u001b[39m.\u001b[39;49mitemset(\u001b[39m2\u001b[39;49m),\u001b[39m255\u001b[39m),\u001b[39m-\u001b[39m\u001b[39m1\u001b[39m)\n\u001b[0;32m     <a href='vscode-notebook-cell:/c%3A/Users/U/20181588/Homework1.ipynb#W3sZmlsZQ%3D%3D?line=15'>16</a>\u001b[0m     \u001b[39melse\u001b[39;00m:\n\u001b[0;32m     <a href='vscode-notebook-cell:/c%3A/Users/U/20181588/Homework1.ipynb#W3sZmlsZQ%3D%3D?line=16'>17</a>\u001b[0m         cv2\u001b[39m.\u001b[39mcircle(img,(x,y),\u001b[39m5\u001b[39m,(img\u001b[39m.\u001b[39mitemset(ix,iy,\u001b[39m2\u001b[39m),\u001b[39m255\u001b[39m),\u001b[39m-\u001b[39m\u001b[39m1\u001b[39m)\n",
      "\u001b[1;31mValueError\u001b[0m: can only convert an array of size 1 to a Python scalar"
     ]
    },
    {
     "ename": "ValueError",
     "evalue": "can only convert an array of size 1 to a Python scalar",
     "output_type": "error",
     "traceback": [
      "\u001b[1;31m---------------------------------------------------------------------------\u001b[0m",
      "\u001b[1;31mValueError\u001b[0m                                Traceback (most recent call last)",
      "\u001b[1;32mc:\\Users\\U\\20181588\\Homework1.ipynb 셀 4\u001b[0m in \u001b[0;36mdraw_circle\u001b[1;34m(event, x, y, flags, param)\u001b[0m\n\u001b[0;32m     <a href='vscode-notebook-cell:/c%3A/Users/U/20181588/Homework1.ipynb#W3sZmlsZQ%3D%3D?line=12'>13</a>\u001b[0m \u001b[39mif\u001b[39;00m drawing \u001b[39m==\u001b[39m \u001b[39mTrue\u001b[39;00m:\n\u001b[0;32m     <a href='vscode-notebook-cell:/c%3A/Users/U/20181588/Homework1.ipynb#W3sZmlsZQ%3D%3D?line=13'>14</a>\u001b[0m     \u001b[39mif\u001b[39;00m mode \u001b[39m==\u001b[39m \u001b[39mTrue\u001b[39;00m:\n\u001b[1;32m---> <a href='vscode-notebook-cell:/c%3A/Users/U/20181588/Homework1.ipynb#W3sZmlsZQ%3D%3D?line=14'>15</a>\u001b[0m         cv2\u001b[39m.\u001b[39mrectangle(img,(ix,iy),(x,y),(img\u001b[39m.\u001b[39;49mitemset(\u001b[39m2\u001b[39;49m),\u001b[39m255\u001b[39m),\u001b[39m-\u001b[39m\u001b[39m1\u001b[39m)\n\u001b[0;32m     <a href='vscode-notebook-cell:/c%3A/Users/U/20181588/Homework1.ipynb#W3sZmlsZQ%3D%3D?line=15'>16</a>\u001b[0m     \u001b[39melse\u001b[39;00m:\n\u001b[0;32m     <a href='vscode-notebook-cell:/c%3A/Users/U/20181588/Homework1.ipynb#W3sZmlsZQ%3D%3D?line=16'>17</a>\u001b[0m         cv2\u001b[39m.\u001b[39mcircle(img,(x,y),\u001b[39m5\u001b[39m,(img\u001b[39m.\u001b[39mitemset(ix,iy,\u001b[39m2\u001b[39m),\u001b[39m255\u001b[39m),\u001b[39m-\u001b[39m\u001b[39m1\u001b[39m)\n",
      "\u001b[1;31mValueError\u001b[0m: can only convert an array of size 1 to a Python scalar"
     ]
    },
    {
     "ename": "ValueError",
     "evalue": "can only convert an array of size 1 to a Python scalar",
     "output_type": "error",
     "traceback": [
      "\u001b[1;31m---------------------------------------------------------------------------\u001b[0m",
      "\u001b[1;31mValueError\u001b[0m                                Traceback (most recent call last)",
      "\u001b[1;32mc:\\Users\\U\\20181588\\Homework1.ipynb 셀 4\u001b[0m in \u001b[0;36mdraw_circle\u001b[1;34m(event, x, y, flags, param)\u001b[0m\n\u001b[0;32m     <a href='vscode-notebook-cell:/c%3A/Users/U/20181588/Homework1.ipynb#W3sZmlsZQ%3D%3D?line=18'>19</a>\u001b[0m drawing \u001b[39m=\u001b[39m \u001b[39mFalse\u001b[39;00m\n\u001b[0;32m     <a href='vscode-notebook-cell:/c%3A/Users/U/20181588/Homework1.ipynb#W3sZmlsZQ%3D%3D?line=19'>20</a>\u001b[0m \u001b[39mif\u001b[39;00m mode \u001b[39m==\u001b[39m \u001b[39mTrue\u001b[39;00m:\n\u001b[1;32m---> <a href='vscode-notebook-cell:/c%3A/Users/U/20181588/Homework1.ipynb#W3sZmlsZQ%3D%3D?line=20'>21</a>\u001b[0m     cv2\u001b[39m.\u001b[39mrectangle(img,(ix,iy),(x,y),(img\u001b[39m.\u001b[39;49mitemset(\u001b[39m2\u001b[39;49m),\u001b[39m255\u001b[39m),\u001b[39m-\u001b[39m\u001b[39m1\u001b[39m)\n\u001b[0;32m     <a href='vscode-notebook-cell:/c%3A/Users/U/20181588/Homework1.ipynb#W3sZmlsZQ%3D%3D?line=21'>22</a>\u001b[0m \u001b[39melse\u001b[39;00m:\n\u001b[0;32m     <a href='vscode-notebook-cell:/c%3A/Users/U/20181588/Homework1.ipynb#W3sZmlsZQ%3D%3D?line=22'>23</a>\u001b[0m     cv2\u001b[39m.\u001b[39mcircle(img,(x,y),\u001b[39m5\u001b[39m,(\u001b[39m0\u001b[39m,\u001b[39m0\u001b[39m,\u001b[39m255\u001b[39m),\u001b[39m-\u001b[39m\u001b[39m1\u001b[39m)\n",
      "\u001b[1;31mValueError\u001b[0m: can only convert an array of size 1 to a Python scalar"
     ]
    },
    {
     "ename": "ValueError",
     "evalue": "can only convert an array of size 1 to a Python scalar",
     "output_type": "error",
     "traceback": [
      "\u001b[1;31m---------------------------------------------------------------------------\u001b[0m",
      "\u001b[1;31mValueError\u001b[0m                                Traceback (most recent call last)",
      "\u001b[1;32mc:\\Users\\U\\20181588\\Homework1.ipynb 셀 4\u001b[0m in \u001b[0;36mdraw_circle\u001b[1;34m(event, x, y, flags, param)\u001b[0m\n\u001b[0;32m     <a href='vscode-notebook-cell:/c%3A/Users/U/20181588/Homework1.ipynb#W3sZmlsZQ%3D%3D?line=12'>13</a>\u001b[0m \u001b[39mif\u001b[39;00m drawing \u001b[39m==\u001b[39m \u001b[39mTrue\u001b[39;00m:\n\u001b[0;32m     <a href='vscode-notebook-cell:/c%3A/Users/U/20181588/Homework1.ipynb#W3sZmlsZQ%3D%3D?line=13'>14</a>\u001b[0m     \u001b[39mif\u001b[39;00m mode \u001b[39m==\u001b[39m \u001b[39mTrue\u001b[39;00m:\n\u001b[1;32m---> <a href='vscode-notebook-cell:/c%3A/Users/U/20181588/Homework1.ipynb#W3sZmlsZQ%3D%3D?line=14'>15</a>\u001b[0m         cv2\u001b[39m.\u001b[39mrectangle(img,(ix,iy),(x,y),(img\u001b[39m.\u001b[39;49mitemset(\u001b[39m2\u001b[39;49m),\u001b[39m255\u001b[39m),\u001b[39m-\u001b[39m\u001b[39m1\u001b[39m)\n\u001b[0;32m     <a href='vscode-notebook-cell:/c%3A/Users/U/20181588/Homework1.ipynb#W3sZmlsZQ%3D%3D?line=15'>16</a>\u001b[0m     \u001b[39melse\u001b[39;00m:\n\u001b[0;32m     <a href='vscode-notebook-cell:/c%3A/Users/U/20181588/Homework1.ipynb#W3sZmlsZQ%3D%3D?line=16'>17</a>\u001b[0m         cv2\u001b[39m.\u001b[39mcircle(img,(x,y),\u001b[39m5\u001b[39m,(img\u001b[39m.\u001b[39mitemset(ix,iy,\u001b[39m2\u001b[39m),\u001b[39m255\u001b[39m),\u001b[39m-\u001b[39m\u001b[39m1\u001b[39m)\n",
      "\u001b[1;31mValueError\u001b[0m: can only convert an array of size 1 to a Python scalar"
     ]
    },
    {
     "ename": "ValueError",
     "evalue": "can only convert an array of size 1 to a Python scalar",
     "output_type": "error",
     "traceback": [
      "\u001b[1;31m---------------------------------------------------------------------------\u001b[0m",
      "\u001b[1;31mValueError\u001b[0m                                Traceback (most recent call last)",
      "\u001b[1;32mc:\\Users\\U\\20181588\\Homework1.ipynb 셀 4\u001b[0m in \u001b[0;36mdraw_circle\u001b[1;34m(event, x, y, flags, param)\u001b[0m\n\u001b[0;32m     <a href='vscode-notebook-cell:/c%3A/Users/U/20181588/Homework1.ipynb#W3sZmlsZQ%3D%3D?line=12'>13</a>\u001b[0m \u001b[39mif\u001b[39;00m drawing \u001b[39m==\u001b[39m \u001b[39mTrue\u001b[39;00m:\n\u001b[0;32m     <a href='vscode-notebook-cell:/c%3A/Users/U/20181588/Homework1.ipynb#W3sZmlsZQ%3D%3D?line=13'>14</a>\u001b[0m     \u001b[39mif\u001b[39;00m mode \u001b[39m==\u001b[39m \u001b[39mTrue\u001b[39;00m:\n\u001b[1;32m---> <a href='vscode-notebook-cell:/c%3A/Users/U/20181588/Homework1.ipynb#W3sZmlsZQ%3D%3D?line=14'>15</a>\u001b[0m         cv2\u001b[39m.\u001b[39mrectangle(img,(ix,iy),(x,y),(img\u001b[39m.\u001b[39;49mitemset(\u001b[39m2\u001b[39;49m),\u001b[39m255\u001b[39m),\u001b[39m-\u001b[39m\u001b[39m1\u001b[39m)\n\u001b[0;32m     <a href='vscode-notebook-cell:/c%3A/Users/U/20181588/Homework1.ipynb#W3sZmlsZQ%3D%3D?line=15'>16</a>\u001b[0m     \u001b[39melse\u001b[39;00m:\n\u001b[0;32m     <a href='vscode-notebook-cell:/c%3A/Users/U/20181588/Homework1.ipynb#W3sZmlsZQ%3D%3D?line=16'>17</a>\u001b[0m         cv2\u001b[39m.\u001b[39mcircle(img,(x,y),\u001b[39m5\u001b[39m,(img\u001b[39m.\u001b[39mitemset(ix,iy,\u001b[39m2\u001b[39m),\u001b[39m255\u001b[39m),\u001b[39m-\u001b[39m\u001b[39m1\u001b[39m)\n",
      "\u001b[1;31mValueError\u001b[0m: can only convert an array of size 1 to a Python scalar"
     ]
    },
    {
     "ename": "ValueError",
     "evalue": "can only convert an array of size 1 to a Python scalar",
     "output_type": "error",
     "traceback": [
      "\u001b[1;31m---------------------------------------------------------------------------\u001b[0m",
      "\u001b[1;31mValueError\u001b[0m                                Traceback (most recent call last)",
      "\u001b[1;32mc:\\Users\\U\\20181588\\Homework1.ipynb 셀 4\u001b[0m in \u001b[0;36mdraw_circle\u001b[1;34m(event, x, y, flags, param)\u001b[0m\n\u001b[0;32m     <a href='vscode-notebook-cell:/c%3A/Users/U/20181588/Homework1.ipynb#W3sZmlsZQ%3D%3D?line=12'>13</a>\u001b[0m \u001b[39mif\u001b[39;00m drawing \u001b[39m==\u001b[39m \u001b[39mTrue\u001b[39;00m:\n\u001b[0;32m     <a href='vscode-notebook-cell:/c%3A/Users/U/20181588/Homework1.ipynb#W3sZmlsZQ%3D%3D?line=13'>14</a>\u001b[0m     \u001b[39mif\u001b[39;00m mode \u001b[39m==\u001b[39m \u001b[39mTrue\u001b[39;00m:\n\u001b[1;32m---> <a href='vscode-notebook-cell:/c%3A/Users/U/20181588/Homework1.ipynb#W3sZmlsZQ%3D%3D?line=14'>15</a>\u001b[0m         cv2\u001b[39m.\u001b[39mrectangle(img,(ix,iy),(x,y),(img\u001b[39m.\u001b[39;49mitemset(\u001b[39m2\u001b[39;49m),\u001b[39m255\u001b[39m),\u001b[39m-\u001b[39m\u001b[39m1\u001b[39m)\n\u001b[0;32m     <a href='vscode-notebook-cell:/c%3A/Users/U/20181588/Homework1.ipynb#W3sZmlsZQ%3D%3D?line=15'>16</a>\u001b[0m     \u001b[39melse\u001b[39;00m:\n\u001b[0;32m     <a href='vscode-notebook-cell:/c%3A/Users/U/20181588/Homework1.ipynb#W3sZmlsZQ%3D%3D?line=16'>17</a>\u001b[0m         cv2\u001b[39m.\u001b[39mcircle(img,(x,y),\u001b[39m5\u001b[39m,(img\u001b[39m.\u001b[39mitemset(ix,iy,\u001b[39m2\u001b[39m),\u001b[39m255\u001b[39m),\u001b[39m-\u001b[39m\u001b[39m1\u001b[39m)\n",
      "\u001b[1;31mValueError\u001b[0m: can only convert an array of size 1 to a Python scalar"
     ]
    },
    {
     "ename": "ValueError",
     "evalue": "can only convert an array of size 1 to a Python scalar",
     "output_type": "error",
     "traceback": [
      "\u001b[1;31m---------------------------------------------------------------------------\u001b[0m",
      "\u001b[1;31mValueError\u001b[0m                                Traceback (most recent call last)",
      "\u001b[1;32mc:\\Users\\U\\20181588\\Homework1.ipynb 셀 4\u001b[0m in \u001b[0;36mdraw_circle\u001b[1;34m(event, x, y, flags, param)\u001b[0m\n\u001b[0;32m     <a href='vscode-notebook-cell:/c%3A/Users/U/20181588/Homework1.ipynb#W3sZmlsZQ%3D%3D?line=12'>13</a>\u001b[0m \u001b[39mif\u001b[39;00m drawing \u001b[39m==\u001b[39m \u001b[39mTrue\u001b[39;00m:\n\u001b[0;32m     <a href='vscode-notebook-cell:/c%3A/Users/U/20181588/Homework1.ipynb#W3sZmlsZQ%3D%3D?line=13'>14</a>\u001b[0m     \u001b[39mif\u001b[39;00m mode \u001b[39m==\u001b[39m \u001b[39mTrue\u001b[39;00m:\n\u001b[1;32m---> <a href='vscode-notebook-cell:/c%3A/Users/U/20181588/Homework1.ipynb#W3sZmlsZQ%3D%3D?line=14'>15</a>\u001b[0m         cv2\u001b[39m.\u001b[39mrectangle(img,(ix,iy),(x,y),(img\u001b[39m.\u001b[39;49mitemset(\u001b[39m2\u001b[39;49m),\u001b[39m255\u001b[39m),\u001b[39m-\u001b[39m\u001b[39m1\u001b[39m)\n\u001b[0;32m     <a href='vscode-notebook-cell:/c%3A/Users/U/20181588/Homework1.ipynb#W3sZmlsZQ%3D%3D?line=15'>16</a>\u001b[0m     \u001b[39melse\u001b[39;00m:\n\u001b[0;32m     <a href='vscode-notebook-cell:/c%3A/Users/U/20181588/Homework1.ipynb#W3sZmlsZQ%3D%3D?line=16'>17</a>\u001b[0m         cv2\u001b[39m.\u001b[39mcircle(img,(x,y),\u001b[39m5\u001b[39m,(img\u001b[39m.\u001b[39mitemset(ix,iy,\u001b[39m2\u001b[39m),\u001b[39m255\u001b[39m),\u001b[39m-\u001b[39m\u001b[39m1\u001b[39m)\n",
      "\u001b[1;31mValueError\u001b[0m: can only convert an array of size 1 to a Python scalar"
     ]
    },
    {
     "ename": "ValueError",
     "evalue": "can only convert an array of size 1 to a Python scalar",
     "output_type": "error",
     "traceback": [
      "\u001b[1;31m---------------------------------------------------------------------------\u001b[0m",
      "\u001b[1;31mValueError\u001b[0m                                Traceback (most recent call last)",
      "\u001b[1;32mc:\\Users\\U\\20181588\\Homework1.ipynb 셀 4\u001b[0m in \u001b[0;36mdraw_circle\u001b[1;34m(event, x, y, flags, param)\u001b[0m\n\u001b[0;32m     <a href='vscode-notebook-cell:/c%3A/Users/U/20181588/Homework1.ipynb#W3sZmlsZQ%3D%3D?line=12'>13</a>\u001b[0m \u001b[39mif\u001b[39;00m drawing \u001b[39m==\u001b[39m \u001b[39mTrue\u001b[39;00m:\n\u001b[0;32m     <a href='vscode-notebook-cell:/c%3A/Users/U/20181588/Homework1.ipynb#W3sZmlsZQ%3D%3D?line=13'>14</a>\u001b[0m     \u001b[39mif\u001b[39;00m mode \u001b[39m==\u001b[39m \u001b[39mTrue\u001b[39;00m:\n\u001b[1;32m---> <a href='vscode-notebook-cell:/c%3A/Users/U/20181588/Homework1.ipynb#W3sZmlsZQ%3D%3D?line=14'>15</a>\u001b[0m         cv2\u001b[39m.\u001b[39mrectangle(img,(ix,iy),(x,y),(img\u001b[39m.\u001b[39;49mitemset(\u001b[39m2\u001b[39;49m),\u001b[39m255\u001b[39m),\u001b[39m-\u001b[39m\u001b[39m1\u001b[39m)\n\u001b[0;32m     <a href='vscode-notebook-cell:/c%3A/Users/U/20181588/Homework1.ipynb#W3sZmlsZQ%3D%3D?line=15'>16</a>\u001b[0m     \u001b[39melse\u001b[39;00m:\n\u001b[0;32m     <a href='vscode-notebook-cell:/c%3A/Users/U/20181588/Homework1.ipynb#W3sZmlsZQ%3D%3D?line=16'>17</a>\u001b[0m         cv2\u001b[39m.\u001b[39mcircle(img,(x,y),\u001b[39m5\u001b[39m,(img\u001b[39m.\u001b[39mitemset(ix,iy,\u001b[39m2\u001b[39m),\u001b[39m255\u001b[39m),\u001b[39m-\u001b[39m\u001b[39m1\u001b[39m)\n",
      "\u001b[1;31mValueError\u001b[0m: can only convert an array of size 1 to a Python scalar"
     ]
    },
    {
     "ename": "ValueError",
     "evalue": "can only convert an array of size 1 to a Python scalar",
     "output_type": "error",
     "traceback": [
      "\u001b[1;31m---------------------------------------------------------------------------\u001b[0m",
      "\u001b[1;31mValueError\u001b[0m                                Traceback (most recent call last)",
      "\u001b[1;32mc:\\Users\\U\\20181588\\Homework1.ipynb 셀 4\u001b[0m in \u001b[0;36mdraw_circle\u001b[1;34m(event, x, y, flags, param)\u001b[0m\n\u001b[0;32m     <a href='vscode-notebook-cell:/c%3A/Users/U/20181588/Homework1.ipynb#W3sZmlsZQ%3D%3D?line=12'>13</a>\u001b[0m \u001b[39mif\u001b[39;00m drawing \u001b[39m==\u001b[39m \u001b[39mTrue\u001b[39;00m:\n\u001b[0;32m     <a href='vscode-notebook-cell:/c%3A/Users/U/20181588/Homework1.ipynb#W3sZmlsZQ%3D%3D?line=13'>14</a>\u001b[0m     \u001b[39mif\u001b[39;00m mode \u001b[39m==\u001b[39m \u001b[39mTrue\u001b[39;00m:\n\u001b[1;32m---> <a href='vscode-notebook-cell:/c%3A/Users/U/20181588/Homework1.ipynb#W3sZmlsZQ%3D%3D?line=14'>15</a>\u001b[0m         cv2\u001b[39m.\u001b[39mrectangle(img,(ix,iy),(x,y),(img\u001b[39m.\u001b[39;49mitemset(\u001b[39m2\u001b[39;49m),\u001b[39m255\u001b[39m),\u001b[39m-\u001b[39m\u001b[39m1\u001b[39m)\n\u001b[0;32m     <a href='vscode-notebook-cell:/c%3A/Users/U/20181588/Homework1.ipynb#W3sZmlsZQ%3D%3D?line=15'>16</a>\u001b[0m     \u001b[39melse\u001b[39;00m:\n\u001b[0;32m     <a href='vscode-notebook-cell:/c%3A/Users/U/20181588/Homework1.ipynb#W3sZmlsZQ%3D%3D?line=16'>17</a>\u001b[0m         cv2\u001b[39m.\u001b[39mcircle(img,(x,y),\u001b[39m5\u001b[39m,(img\u001b[39m.\u001b[39mitemset(ix,iy,\u001b[39m2\u001b[39m),\u001b[39m255\u001b[39m),\u001b[39m-\u001b[39m\u001b[39m1\u001b[39m)\n",
      "\u001b[1;31mValueError\u001b[0m: can only convert an array of size 1 to a Python scalar"
     ]
    },
    {
     "ename": "ValueError",
     "evalue": "can only convert an array of size 1 to a Python scalar",
     "output_type": "error",
     "traceback": [
      "\u001b[1;31m---------------------------------------------------------------------------\u001b[0m",
      "\u001b[1;31mValueError\u001b[0m                                Traceback (most recent call last)",
      "\u001b[1;32mc:\\Users\\U\\20181588\\Homework1.ipynb 셀 4\u001b[0m in \u001b[0;36mdraw_circle\u001b[1;34m(event, x, y, flags, param)\u001b[0m\n\u001b[0;32m     <a href='vscode-notebook-cell:/c%3A/Users/U/20181588/Homework1.ipynb#W3sZmlsZQ%3D%3D?line=12'>13</a>\u001b[0m \u001b[39mif\u001b[39;00m drawing \u001b[39m==\u001b[39m \u001b[39mTrue\u001b[39;00m:\n\u001b[0;32m     <a href='vscode-notebook-cell:/c%3A/Users/U/20181588/Homework1.ipynb#W3sZmlsZQ%3D%3D?line=13'>14</a>\u001b[0m     \u001b[39mif\u001b[39;00m mode \u001b[39m==\u001b[39m \u001b[39mTrue\u001b[39;00m:\n\u001b[1;32m---> <a href='vscode-notebook-cell:/c%3A/Users/U/20181588/Homework1.ipynb#W3sZmlsZQ%3D%3D?line=14'>15</a>\u001b[0m         cv2\u001b[39m.\u001b[39mrectangle(img,(ix,iy),(x,y),(img\u001b[39m.\u001b[39;49mitemset(\u001b[39m2\u001b[39;49m),\u001b[39m255\u001b[39m),\u001b[39m-\u001b[39m\u001b[39m1\u001b[39m)\n\u001b[0;32m     <a href='vscode-notebook-cell:/c%3A/Users/U/20181588/Homework1.ipynb#W3sZmlsZQ%3D%3D?line=15'>16</a>\u001b[0m     \u001b[39melse\u001b[39;00m:\n\u001b[0;32m     <a href='vscode-notebook-cell:/c%3A/Users/U/20181588/Homework1.ipynb#W3sZmlsZQ%3D%3D?line=16'>17</a>\u001b[0m         cv2\u001b[39m.\u001b[39mcircle(img,(x,y),\u001b[39m5\u001b[39m,(img\u001b[39m.\u001b[39mitemset(ix,iy,\u001b[39m2\u001b[39m),\u001b[39m255\u001b[39m),\u001b[39m-\u001b[39m\u001b[39m1\u001b[39m)\n",
      "\u001b[1;31mValueError\u001b[0m: can only convert an array of size 1 to a Python scalar"
     ]
    },
    {
     "ename": "ValueError",
     "evalue": "can only convert an array of size 1 to a Python scalar",
     "output_type": "error",
     "traceback": [
      "\u001b[1;31m---------------------------------------------------------------------------\u001b[0m",
      "\u001b[1;31mValueError\u001b[0m                                Traceback (most recent call last)",
      "\u001b[1;32mc:\\Users\\U\\20181588\\Homework1.ipynb 셀 4\u001b[0m in \u001b[0;36mdraw_circle\u001b[1;34m(event, x, y, flags, param)\u001b[0m\n\u001b[0;32m     <a href='vscode-notebook-cell:/c%3A/Users/U/20181588/Homework1.ipynb#W3sZmlsZQ%3D%3D?line=12'>13</a>\u001b[0m \u001b[39mif\u001b[39;00m drawing \u001b[39m==\u001b[39m \u001b[39mTrue\u001b[39;00m:\n\u001b[0;32m     <a href='vscode-notebook-cell:/c%3A/Users/U/20181588/Homework1.ipynb#W3sZmlsZQ%3D%3D?line=13'>14</a>\u001b[0m     \u001b[39mif\u001b[39;00m mode \u001b[39m==\u001b[39m \u001b[39mTrue\u001b[39;00m:\n\u001b[1;32m---> <a href='vscode-notebook-cell:/c%3A/Users/U/20181588/Homework1.ipynb#W3sZmlsZQ%3D%3D?line=14'>15</a>\u001b[0m         cv2\u001b[39m.\u001b[39mrectangle(img,(ix,iy),(x,y),(img\u001b[39m.\u001b[39;49mitemset(\u001b[39m2\u001b[39;49m),\u001b[39m255\u001b[39m),\u001b[39m-\u001b[39m\u001b[39m1\u001b[39m)\n\u001b[0;32m     <a href='vscode-notebook-cell:/c%3A/Users/U/20181588/Homework1.ipynb#W3sZmlsZQ%3D%3D?line=15'>16</a>\u001b[0m     \u001b[39melse\u001b[39;00m:\n\u001b[0;32m     <a href='vscode-notebook-cell:/c%3A/Users/U/20181588/Homework1.ipynb#W3sZmlsZQ%3D%3D?line=16'>17</a>\u001b[0m         cv2\u001b[39m.\u001b[39mcircle(img,(x,y),\u001b[39m5\u001b[39m,(img\u001b[39m.\u001b[39mitemset(ix,iy,\u001b[39m2\u001b[39m),\u001b[39m255\u001b[39m),\u001b[39m-\u001b[39m\u001b[39m1\u001b[39m)\n",
      "\u001b[1;31mValueError\u001b[0m: can only convert an array of size 1 to a Python scalar"
     ]
    },
    {
     "ename": "ValueError",
     "evalue": "can only convert an array of size 1 to a Python scalar",
     "output_type": "error",
     "traceback": [
      "\u001b[1;31m---------------------------------------------------------------------------\u001b[0m",
      "\u001b[1;31mValueError\u001b[0m                                Traceback (most recent call last)",
      "\u001b[1;32mc:\\Users\\U\\20181588\\Homework1.ipynb 셀 4\u001b[0m in \u001b[0;36mdraw_circle\u001b[1;34m(event, x, y, flags, param)\u001b[0m\n\u001b[0;32m     <a href='vscode-notebook-cell:/c%3A/Users/U/20181588/Homework1.ipynb#W3sZmlsZQ%3D%3D?line=18'>19</a>\u001b[0m drawing \u001b[39m=\u001b[39m \u001b[39mFalse\u001b[39;00m\n\u001b[0;32m     <a href='vscode-notebook-cell:/c%3A/Users/U/20181588/Homework1.ipynb#W3sZmlsZQ%3D%3D?line=19'>20</a>\u001b[0m \u001b[39mif\u001b[39;00m mode \u001b[39m==\u001b[39m \u001b[39mTrue\u001b[39;00m:\n\u001b[1;32m---> <a href='vscode-notebook-cell:/c%3A/Users/U/20181588/Homework1.ipynb#W3sZmlsZQ%3D%3D?line=20'>21</a>\u001b[0m     cv2\u001b[39m.\u001b[39mrectangle(img,(ix,iy),(x,y),(img\u001b[39m.\u001b[39;49mitemset(\u001b[39m2\u001b[39;49m),\u001b[39m255\u001b[39m),\u001b[39m-\u001b[39m\u001b[39m1\u001b[39m)\n\u001b[0;32m     <a href='vscode-notebook-cell:/c%3A/Users/U/20181588/Homework1.ipynb#W3sZmlsZQ%3D%3D?line=21'>22</a>\u001b[0m \u001b[39melse\u001b[39;00m:\n\u001b[0;32m     <a href='vscode-notebook-cell:/c%3A/Users/U/20181588/Homework1.ipynb#W3sZmlsZQ%3D%3D?line=22'>23</a>\u001b[0m     cv2\u001b[39m.\u001b[39mcircle(img,(x,y),\u001b[39m5\u001b[39m,(\u001b[39m0\u001b[39m,\u001b[39m0\u001b[39m,\u001b[39m255\u001b[39m),\u001b[39m-\u001b[39m\u001b[39m1\u001b[39m)\n",
      "\u001b[1;31mValueError\u001b[0m: can only convert an array of size 1 to a Python scalar"
     ]
    }
   ],
   "source": [
    "img = np.zeros((512,512,3), np.uint8)\n",
    "cv2.namedWindow('image')\n",
    "cv2.setMouseCallback('image',draw_circle)\n",
    "while(1):\n",
    "    dsp=img.copy()\n",
    "    cv2.putText(dsp,\"(\"+str(ix)+\",\"+str(iy)+\")\",(10,25), font, 0.5,(255,255,255),1,cv2.LINE_AA)\n",
    "    cv2.imshow('image',dsp)\n",
    "    k = cv2.waitKey(1) & 0xFF\n",
    "    if k == ord('m'):\n",
    "        mode = not mode\n",
    "    elif k == 27:\n",
    "        break\n",
    "cv2.destroyAllWindows()"
   ]
  },
  {
   "cell_type": "code",
   "execution_count": null,
   "metadata": {},
   "outputs": [],
   "source": []
  }
 ],
 "metadata": {
  "kernelspec": {
   "display_name": "Python 3.8.13 ('opencv')",
   "language": "python",
   "name": "python3"
  },
  "language_info": {
   "codemirror_mode": {
    "name": "ipython",
    "version": 3
   },
   "file_extension": ".py",
   "mimetype": "text/x-python",
   "name": "python",
   "nbconvert_exporter": "python",
   "pygments_lexer": "ipython3",
   "version": "3.8.13"
  },
  "orig_nbformat": 4,
  "vscode": {
   "interpreter": {
    "hash": "e57aef5a80de0c0e424b44d9745d307f35d239b835cdc17a2138c01d18098c92"
   }
  }
 },
 "nbformat": 4,
 "nbformat_minor": 2
}

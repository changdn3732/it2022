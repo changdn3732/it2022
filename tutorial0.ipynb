{
  "nbformat": 4,
  "nbformat_minor": 0,
  "metadata": {
    "colab": {
      "provenance": [],
      "collapsed_sections": [],
      "authorship_tag": "ABX9TyN6EF4tTGRQKT+Gx9VbH8+H"
    },
    "kernelspec": {
      "name": "python3",
      "display_name": "Python 3"
    },
    "language_info": {
      "name": "python"
    }
  },
  "cells": [
    {
      "cell_type": "code",
      "execution_count": 2,
      "metadata": {
        "colab": {
          "base_uri": "https://localhost:8080/"
        },
        "id": "0BqG2OUmKWlw",
        "outputId": "0dca0af5-a999-4a63-a743-6e695f566cc2"
      },
      "outputs": [
        {
          "output_type": "stream",
          "name": "stdout",
          "text": [
            "12\n",
            "hello World\n"
          ]
        }
      ],
      "source": [
        "x=34-23\n",
        "y='hello'\n",
        "z=3.45\n",
        "if z == 3.45 or y == 'Hello':\n",
        "  x = x + 1\n",
        "  y = y + ' World'\n",
        "print (x)\n",
        "print (y)"
      ]
    }
  ]
}
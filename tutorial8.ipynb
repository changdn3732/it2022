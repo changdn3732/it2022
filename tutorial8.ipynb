{
  "nbformat": 4,
  "nbformat_minor": 0,
  "metadata": {
    "colab": {
      "provenance": [],
      "authorship_tag": "ABX9TyME+V7mQ/GninzeN99AoVKA",
      "include_colab_link": true
    },
    "kernelspec": {
      "name": "python3",
      "display_name": "Python 3"
    },
    "language_info": {
      "name": "python"
    }
  },
  "cells": [
    {
      "cell_type": "markdown",
      "metadata": {
        "id": "view-in-github",
        "colab_type": "text"
      },
      "source": [
        "<a href=\"https://colab.research.google.com/github/changdn3732/it2022/blob/main/tutorial8.ipynb\" target=\"_parent\"><img src=\"https://colab.research.google.com/assets/colab-badge.svg\" alt=\"Open In Colab\"/></a>"
      ]
    },
    {
      "cell_type": "code",
      "execution_count": 3,
      "metadata": {
        "colab": {
          "base_uri": "https://localhost:8080/"
        },
        "id": "mdBPZceJfMgI",
        "outputId": "57e43954-87c4-4678-83f8-d70f644918fa"
      },
      "outputs": [
        {
          "output_type": "execute_result",
          "data": {
            "text/plain": [
              "21"
            ]
          },
          "metadata": {},
          "execution_count": 3
        }
      ],
      "source": [
        "def myfun(x):\n",
        "  return x*3\n",
        "def apply(q, x):\n",
        "  return q(x)\n",
        "apply(myfun, 7)"
      ]
    },
    {
      "cell_type": "code",
      "source": [
        "apply(lambda z: z * 4, 7)"
      ],
      "metadata": {
        "colab": {
          "base_uri": "https://localhost:8080/"
        },
        "id": "EJS2DstYfaF2",
        "outputId": "18eaec66-f67d-4543-c655-be09cb57ad0c"
      },
      "execution_count": 6,
      "outputs": [
        {
          "output_type": "execute_result",
          "data": {
            "text/plain": [
              "28"
            ]
          },
          "metadata": {},
          "execution_count": 6
        }
      ]
    },
    {
      "cell_type": "code",
      "source": [
        "def myfun(b, c=3, d='hello'):\n",
        "\n",
        "  return b + c\n",
        "  \n",
        "myfun(5,3,'hello')\n",
        "myfun(5,3)\n",
        "myfun(5)"
      ],
      "metadata": {
        "colab": {
          "base_uri": "https://localhost:8080/"
        },
        "id": "KmT-D4ybfc_E",
        "outputId": "5a942ab6-5dd7-4fc9-ed8b-6967415cad23"
      },
      "execution_count": 7,
      "outputs": [
        {
          "output_type": "execute_result",
          "data": {
            "text/plain": [
              "8"
            ]
          },
          "metadata": {},
          "execution_count": 7
        }
      ]
    },
    {
      "cell_type": "code",
      "source": [
        "def myfun (a, b, c):\n",
        "\n",
        "  return a-b\n",
        "myfun(2,1,43)"
      ],
      "metadata": {
        "colab": {
          "base_uri": "https://localhost:8080/"
        },
        "id": "bcwjiL0LfkrR",
        "outputId": "a83363bf-de79-4579-e41e-f94676fa3f0c"
      },
      "execution_count": 9,
      "outputs": [
        {
          "output_type": "execute_result",
          "data": {
            "text/plain": [
              "1"
            ]
          },
          "metadata": {},
          "execution_count": 9
        }
      ]
    },
    {
      "cell_type": "code",
      "source": [
        "myfun(c=43, b=1, a=2)"
      ],
      "metadata": {
        "id": "ivZS5IJ5fsf-",
        "outputId": "61ce17c4-38a4-48f0-a62d-094ac71ad310",
        "colab": {
          "base_uri": "https://localhost:8080/"
        }
      },
      "execution_count": 10,
      "outputs": [
        {
          "output_type": "execute_result",
          "data": {
            "text/plain": [
              "1"
            ]
          },
          "metadata": {},
          "execution_count": 10
        }
      ]
    },
    {
      "cell_type": "code",
      "source": [
        "myfun(2, c=43, b=1)"
      ],
      "metadata": {
        "id": "qp9bzbU7fskq",
        "outputId": "ee556abf-a3ac-44b6-b2cb-d7d58c5fad9e",
        "colab": {
          "base_uri": "https://localhost:8080/"
        }
      },
      "execution_count": 11,
      "outputs": [
        {
          "output_type": "execute_result",
          "data": {
            "text/plain": [
              "1"
            ]
          },
          "metadata": {},
          "execution_count": 11
        }
      ]
    }
  ]
}
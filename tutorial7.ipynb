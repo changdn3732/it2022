{
  "nbformat": 4,
  "nbformat_minor": 0,
  "metadata": {
    "colab": {
      "provenance": [],
      "authorship_tag": "ABX9TyNPrw+Pt/juKNqjXY0SAKwp",
      "include_colab_link": true
    },
    "kernelspec": {
      "name": "python3",
      "display_name": "Python 3"
    },
    "language_info": {
      "name": "python"
    }
  },
  "cells": [
    {
      "cell_type": "markdown",
      "metadata": {
        "id": "view-in-github",
        "colab_type": "text"
      },
      "source": [
        "<a href=\"https://colab.research.google.com/github/changdn3732/it2022/blob/main/tutorial7.ipynb\" target=\"_parent\"><img src=\"https://colab.research.google.com/assets/colab-badge.svg\" alt=\"Open In Colab\"/></a>"
      ]
    },
    {
      "cell_type": "code",
      "execution_count": 2,
      "metadata": {
        "colab": {
          "base_uri": "https://localhost:8080/"
        },
        "id": "w_K0nybMemXd",
        "outputId": "11360cbb-0716-447d-80fb-6f64c89d22d6"
      },
      "outputs": [
        {
          "output_type": "execute_result",
          "data": {
            "text/plain": [
              "[6, 12, 4, 14]"
            ]
          },
          "metadata": {},
          "execution_count": 2
        }
      ],
      "source": [
        "li = [3, 6, 2, 7]\n",
        "[elem*2 for elem in li]\n"
      ]
    },
    {
      "cell_type": "code",
      "source": [
        "li = [('a', 1), ('b', 2), ('c', 7)]\n",
        "[ n * 3 for (x, n) in li]"
      ],
      "metadata": {
        "colab": {
          "base_uri": "https://localhost:8080/"
        },
        "id": "lZOA6stPe0mR",
        "outputId": "daca4008-9c57-4498-e780-33dae0304cd9"
      },
      "execution_count": 5,
      "outputs": [
        {
          "output_type": "execute_result",
          "data": {
            "text/plain": [
              "[3, 6, 21]"
            ]
          },
          "metadata": {},
          "execution_count": 5
        }
      ]
    },
    {
      "cell_type": "code",
      "source": [
        "li = [3, 6, 2, 7, 1, 9]\n",
        "[elem * 2 for elem in li if elem > 4]"
      ],
      "metadata": {
        "colab": {
          "base_uri": "https://localhost:8080/"
        },
        "id": "dr3ogqrje-rK",
        "outputId": "92e4c533-df43-4fde-b67e-3fedc0492903"
      },
      "execution_count": 6,
      "outputs": [
        {
          "output_type": "execute_result",
          "data": {
            "text/plain": [
              "[12, 14, 18]"
            ]
          },
          "metadata": {},
          "execution_count": 6
        }
      ]
    },
    {
      "cell_type": "code",
      "source": [
        "li = [3, 2, 4, 1]\n",
        "[elem*2 for elem in [item+1 for item in li] ]"
      ],
      "metadata": {
        "colab": {
          "base_uri": "https://localhost:8080/"
        },
        "id": "56IDwZxifB2x",
        "outputId": "6419143a-5595-474f-c0d5-14134970c86b"
      },
      "execution_count": 7,
      "outputs": [
        {
          "output_type": "execute_result",
          "data": {
            "text/plain": [
              "[8, 6, 10, 4]"
            ]
          },
          "metadata": {},
          "execution_count": 7
        }
      ]
    }
  ]
}
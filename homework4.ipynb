{
 "cells": [
  {
   "cell_type": "markdown",
   "metadata": {},
   "source": [
    "##  homework4"
   ]
  },
  {
   "cell_type": "code",
   "execution_count": 1,
   "metadata": {},
   "outputs": [],
   "source": [
    "import cv2\n",
    "import numpy as np\n",
    "from matplotlib import pyplot as plt"
   ]
  },
  {
   "cell_type": "code",
   "execution_count": 25,
   "metadata": {},
   "outputs": [],
   "source": [
    "img = cv2.imread('dsu1.jpg')\n",
    "\n",
    "rows,cols,ch = img.shape\n",
    "pts1 = np.float32([[323,285],[761,312],[324,534],[764,507]])\n",
    "pts2 = np.float32([[0,0],[600,0],[0,300],[600,300]])\n",
    "\n",
    "M = cv2.getPerspectiveTransform(pts1,pts2)\n",
    "dst = cv2.warpPerspective(img,M,(600,300))\n",
    "\n",
    "\n",
    "img = cv2.imread('dsu3.jpg')\n",
    "\n",
    "rows,cols,ch = img.shape\n",
    "pts3 = np.float32([[105,230],[700,168],[110,501],[700,536]])\n",
    "pts4 = np.float32([[0,0],[600,0],[0,300],[600,300]])\n",
    "\n",
    "M = cv2.getPerspectiveTransform(pts3,pts4)\n",
    "dst2 = cv2.warpPerspective(img,M,(600,300))"
   ]
  },
  {
   "cell_type": "code",
   "execution_count": 26,
   "metadata": {},
   "outputs": [],
   "source": [
    "res = cv2.hconcat([dst,dst2])\n",
    "\n",
    "cv2.imshow('homework4',res)\n",
    "cv2.waitKey(0)\n",
    "cv2.destroyAllWindows()"
   ]
  }
 ],
 "metadata": {
  "kernelspec": {
   "display_name": "Python 3.9.12 ('base': conda)",
   "language": "python",
   "name": "python3"
  },
  "language_info": {
   "codemirror_mode": {
    "name": "ipython",
    "version": 3
   },
   "file_extension": ".py",
   "mimetype": "text/x-python",
   "name": "python",
   "nbconvert_exporter": "python",
   "pygments_lexer": "ipython3",
   "version": "3.9.12"
  },
  "orig_nbformat": 4,
  "vscode": {
   "interpreter": {
    "hash": "2f51dd3ae6386deae672ec76d1387492204ade0ecd7321aa3f1614994eb9e5d4"
   }
  }
 },
 "nbformat": 4,
 "nbformat_minor": 2
}
